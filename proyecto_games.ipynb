{
 "cells": [
  {
   "cell_type": "markdown",
   "metadata": {},
   "source": [
    "<a id='contenidos'></a>"
   ]
  },
  {
   "cell_type": "markdown",
   "metadata": {
    "toc": true
   },
   "source": [
    "<h1>Tabla de Contenidos<span class=\"tocSkip\"></span></h1>\n",
    "<div class=\"toc\"><ul class=\"toc-item\"><li><span><a href=\"#Inicialización\" data-toc-modified-id=\"Inicialización-1\"><span class=\"toc-item-num\">1&nbsp;&nbsp;</span>Inicialización</a></span></li><li><span><a href=\"#Cargar-los-datos\" data-toc-modified-id=\"Cargar-los-datos-2\"><span class=\"toc-item-num\">2&nbsp;&nbsp;</span>Cargar los datos</a></span><ul class=\"toc-item\"><li><span><a href=\"#Cambiando-nombres-de-columnas\" data-toc-modified-id=\"Cambiando-nombres-de-columnas-2.1\"><span class=\"toc-item-num\">2.1&nbsp;&nbsp;</span>Cambiando nombres de columnas</a></span></li><li><span><a href=\"#Reemplazando-valores-nulos-en-'year_of_release'\" data-toc-modified-id=\"Reemplazando-valores-nulos-en-'year_of_release'-2.2\"><span class=\"toc-item-num\">2.2&nbsp;&nbsp;</span>Reemplazando valores nulos en <code>'year_of_release'</code></a></span></li><li><span><a href=\"#Reemplazando-valores-nulos-en-'critic_score'-y-'user_score'\" data-toc-modified-id=\"Reemplazando-valores-nulos-en-'critic_score'-y-'user_score'-2.3\"><span class=\"toc-item-num\">2.3&nbsp;&nbsp;</span>Reemplazando valores nulos en <code>'critic_score'</code> y <code>'user_score'</code></a></span></li><li><span><a href=\"#Reemplazando-valores-nulos-en-'rating'\" data-toc-modified-id=\"Reemplazando-valores-nulos-en-'rating'-2.4\"><span class=\"toc-item-num\">2.4&nbsp;&nbsp;</span>Reemplazando valores nulos en <code>'rating'</code></a></span></li></ul></li><li><span><a href=\"#Análisis-de-ventas\" data-toc-modified-id=\"Análisis-de-ventas-3\"><span class=\"toc-item-num\">3&nbsp;&nbsp;</span>Análisis de ventas</a></span><ul class=\"toc-item\"><li><span><a href=\"#Juegos-lanzados-por-año\" data-toc-modified-id=\"Juegos-lanzados-por-año-3.1\"><span class=\"toc-item-num\">3.1&nbsp;&nbsp;</span>Juegos lanzados por año</a></span></li><li><span><a href=\"#Ventas-totales-por-plataforma\" data-toc-modified-id=\"Ventas-totales-por-plataforma-3.2\"><span class=\"toc-item-num\">3.2&nbsp;&nbsp;</span>Ventas totales por plataforma</a></span></li><li><span><a href=\"#¿Cuánto-tardan-las-plataformas-en-desaparecer?\" data-toc-modified-id=\"¿Cuánto-tardan-las-plataformas-en-desaparecer?-3.3\"><span class=\"toc-item-num\">3.3&nbsp;&nbsp;</span>¿Cuánto tardan las plataformas en desaparecer?</a></span></li><li><span><a href=\"#¿Cuáles-son-las-plataformas-lideres-en-ventas?\" data-toc-modified-id=\"¿Cuáles-son-las-plataformas-lideres-en-ventas?-3.4\"><span class=\"toc-item-num\">3.4&nbsp;&nbsp;</span>¿Cuáles son las plataformas lideres en ventas?</a></span></li><li><span><a href=\"#Ventas-promedio-por-plataforma\" data-toc-modified-id=\"Ventas-promedio-por-plataforma-3.5\"><span class=\"toc-item-num\">3.5&nbsp;&nbsp;</span>Ventas promedio por plataforma</a></span></li><li><span><a href=\"#Ventas-totales-de-la-plataforma-XOne\" data-toc-modified-id=\"Ventas-totales-de-la-plataforma-XOne-3.6\"><span class=\"toc-item-num\">3.6&nbsp;&nbsp;</span>Ventas totales de la plataforma XOne</a></span></li><li><span><a href=\"#Ventas-totales-de-la-plataforma-PS4\" data-toc-modified-id=\"Ventas-totales-de-la-plataforma-PS4-3.7\"><span class=\"toc-item-num\">3.7&nbsp;&nbsp;</span>Ventas totales de la plataforma PS4</a></span></li><li><span><a href=\"#Ventas-totales-por-género\" data-toc-modified-id=\"Ventas-totales-por-género-3.8\"><span class=\"toc-item-num\">3.8&nbsp;&nbsp;</span>Ventas totales por género</a></span></li><li><span><a href=\"#Las-cinco-plataformas-con-mejores-ventas-totales-por-región\" data-toc-modified-id=\"Las-cinco-plataformas-con-mejores-ventas-totales-por-región-3.9\"><span class=\"toc-item-num\">3.9&nbsp;&nbsp;</span>Las cinco plataformas con mejores ventas totales por región</a></span></li><li><span><a href=\"#Los-cinco-géneros-con-mejores-ventas-totales-por-región\" data-toc-modified-id=\"Los-cinco-géneros-con-mejores-ventas-totales-por-región-3.10\"><span class=\"toc-item-num\">3.10&nbsp;&nbsp;</span>Los cinco géneros con mejores ventas totales por región</a></span></li><li><span><a href=\"#¿Cómo-afecta-la-clasificación-ESRB-a-las-ventas-por-región?\" data-toc-modified-id=\"¿Cómo-afecta-la-clasificación-ESRB-a-las-ventas-por-región?-3.11\"><span class=\"toc-item-num\">3.11&nbsp;&nbsp;</span>¿Cómo afecta la clasificación ESRB a las ventas por región?</a></span></li></ul></li><li><span><a href=\"#Pruebas-de-hipótesis\" data-toc-modified-id=\"Pruebas-de-hipótesis-4\"><span class=\"toc-item-num\">4&nbsp;&nbsp;</span>Pruebas de hipótesis</a></span><ul class=\"toc-item\"><li><span><a href=\"#¿Las-calificaciones-promedio-de-los-usuarios-de-las-plataformas-Xbox-One-y-PC-son-las-mismas?\" data-toc-modified-id=\"¿Las-calificaciones-promedio-de-los-usuarios-de-las-plataformas-Xbox-One-y-PC-son-las-mismas?-4.1\"><span class=\"toc-item-num\">4.1&nbsp;&nbsp;</span>¿Las calificaciones promedio de los usuarios de las plataformas Xbox One y PC son las mismas?</a></span></li><li><span><a href=\"#¿Las-calificaciones-promedio-de-los-usuarios-para-los-géneros-de-Acción-y-Deportes-son-las-mismas?\" data-toc-modified-id=\"¿Las-calificaciones-promedio-de-los-usuarios-para-los-géneros-de-Acción-y-Deportes-son-las-mismas?-4.2\"><span class=\"toc-item-num\">4.2&nbsp;&nbsp;</span>¿Las calificaciones promedio de los usuarios para los géneros de Acción y Deportes son las mismas?</a></span></li></ul></li><li><span><a href=\"#Conclusiones\" data-toc-modified-id=\"Conclusiones-5\"><span class=\"toc-item-num\">5&nbsp;&nbsp;</span>Conclusiones</a></span></li></ul></div>"
   ]
  },
  {
   "cell_type": "markdown",
   "metadata": {},
   "source": [
    "# Introducción \n",
    "En este proyecto vamos a analizar datos históricos sobre las ventas de videojuegos de la tienda online ICE que vende videojuegos por todo el mundo. Contamos con un dataset que contiene datos desde el año 1980 hasta el año 2016 y estaremos usandolo para planificar una campaña para el 2017.  \n",
    "    El dataset contiene reseñas de usuarios y expertos, los géneros, las plataformas (por ejemplo, XBOX o PlayStation) y los datos históricos sobre las ventas de cada videojuego. Vamos a tratar de identificar patrones que determinen si un juego tiene éxito o no. Esto nos permitirá detectar proyectos prometedores y campañas publicitarias.  \n",
    "    La clasificación de los videojuegos tiene la abreviatura ESRB. The Entertainment Software Rating Board (la Junta de Clasificación de Software de Entretenimiento) evalúa el contenido de un juego y asigna una clasificación de edad como adolescente o adulto."
   ]
  },
  {
   "cell_type": "markdown",
   "metadata": {},
   "source": [
    "## Inicialización"
   ]
  },
  {
   "cell_type": "markdown",
   "metadata": {},
   "source": [
    "En esta sección vamos a cargar las librerías necesarias para el proyecto."
   ]
  },
  {
   "cell_type": "code",
   "execution_count": 1,
   "metadata": {},
   "outputs": [],
   "source": [
    "import pandas as pd\n",
    "import numpy as np\n",
    "import math\n",
    "import random\n",
    "import seaborn as sns\n",
    "import matplotlib.pyplot as plt\n",
    "from scipy import stats as st\n",
    "\n",
    "sns.set_palette(palette='tab10')\n",
    "pd.set_option('display.precision', 3)"
   ]
  },
  {
   "cell_type": "markdown",
   "metadata": {},
   "source": [
    "[Contenidos](#contenidos)\n",
    "## Cargar los datos"
   ]
  },
  {
   "cell_type": "code",
   "execution_count": 2,
   "metadata": {},
   "outputs": [],
   "source": [
    "# creamos un dataframe con los datos\n",
    "data_games=pd.read_csv('games.csv')"
   ]
  },
  {
   "cell_type": "code",
   "execution_count": 3,
   "metadata": {},
   "outputs": [
    {
     "data": {
      "text/plain": [
       "(16715, 11)"
      ]
     },
     "execution_count": 3,
     "metadata": {},
     "output_type": "execute_result"
    }
   ],
   "source": [
    "# mostramos el número de filas y columnas del set de datos\n",
    "data_games.shape"
   ]
  },
  {
   "cell_type": "code",
   "execution_count": 4,
   "metadata": {},
   "outputs": [
    {
     "data": {
      "text/html": [
       "<div>\n",
       "<style scoped>\n",
       "    .dataframe tbody tr th:only-of-type {\n",
       "        vertical-align: middle;\n",
       "    }\n",
       "\n",
       "    .dataframe tbody tr th {\n",
       "        vertical-align: top;\n",
       "    }\n",
       "\n",
       "    .dataframe thead th {\n",
       "        text-align: right;\n",
       "    }\n",
       "</style>\n",
       "<table border=\"1\" class=\"dataframe\">\n",
       "  <thead>\n",
       "    <tr style=\"text-align: right;\">\n",
       "      <th></th>\n",
       "      <th>Name</th>\n",
       "      <th>Platform</th>\n",
       "      <th>Year_of_Release</th>\n",
       "      <th>Genre</th>\n",
       "      <th>NA_sales</th>\n",
       "      <th>EU_sales</th>\n",
       "      <th>JP_sales</th>\n",
       "      <th>Other_sales</th>\n",
       "      <th>Critic_Score</th>\n",
       "      <th>User_Score</th>\n",
       "      <th>Rating</th>\n",
       "    </tr>\n",
       "  </thead>\n",
       "  <tbody>\n",
       "    <tr>\n",
       "      <th>0</th>\n",
       "      <td>Wii Sports</td>\n",
       "      <td>Wii</td>\n",
       "      <td>2006.0</td>\n",
       "      <td>Sports</td>\n",
       "      <td>41.36</td>\n",
       "      <td>28.96</td>\n",
       "      <td>3.77</td>\n",
       "      <td>8.45</td>\n",
       "      <td>76.0</td>\n",
       "      <td>8</td>\n",
       "      <td>E</td>\n",
       "    </tr>\n",
       "    <tr>\n",
       "      <th>1</th>\n",
       "      <td>Super Mario Bros.</td>\n",
       "      <td>NES</td>\n",
       "      <td>1985.0</td>\n",
       "      <td>Platform</td>\n",
       "      <td>29.08</td>\n",
       "      <td>3.58</td>\n",
       "      <td>6.81</td>\n",
       "      <td>0.77</td>\n",
       "      <td>NaN</td>\n",
       "      <td>NaN</td>\n",
       "      <td>NaN</td>\n",
       "    </tr>\n",
       "    <tr>\n",
       "      <th>2</th>\n",
       "      <td>Mario Kart Wii</td>\n",
       "      <td>Wii</td>\n",
       "      <td>2008.0</td>\n",
       "      <td>Racing</td>\n",
       "      <td>15.68</td>\n",
       "      <td>12.76</td>\n",
       "      <td>3.79</td>\n",
       "      <td>3.29</td>\n",
       "      <td>82.0</td>\n",
       "      <td>8.3</td>\n",
       "      <td>E</td>\n",
       "    </tr>\n",
       "    <tr>\n",
       "      <th>3</th>\n",
       "      <td>Wii Sports Resort</td>\n",
       "      <td>Wii</td>\n",
       "      <td>2009.0</td>\n",
       "      <td>Sports</td>\n",
       "      <td>15.61</td>\n",
       "      <td>10.93</td>\n",
       "      <td>3.28</td>\n",
       "      <td>2.95</td>\n",
       "      <td>80.0</td>\n",
       "      <td>8</td>\n",
       "      <td>E</td>\n",
       "    </tr>\n",
       "    <tr>\n",
       "      <th>4</th>\n",
       "      <td>Pokemon Red/Pokemon Blue</td>\n",
       "      <td>GB</td>\n",
       "      <td>1996.0</td>\n",
       "      <td>Role-Playing</td>\n",
       "      <td>11.27</td>\n",
       "      <td>8.89</td>\n",
       "      <td>10.22</td>\n",
       "      <td>1.00</td>\n",
       "      <td>NaN</td>\n",
       "      <td>NaN</td>\n",
       "      <td>NaN</td>\n",
       "    </tr>\n",
       "  </tbody>\n",
       "</table>\n",
       "</div>"
      ],
      "text/plain": [
       "                       Name Platform  Year_of_Release         Genre  NA_sales  \\\n",
       "0                Wii Sports      Wii           2006.0        Sports     41.36   \n",
       "1         Super Mario Bros.      NES           1985.0      Platform     29.08   \n",
       "2            Mario Kart Wii      Wii           2008.0        Racing     15.68   \n",
       "3         Wii Sports Resort      Wii           2009.0        Sports     15.61   \n",
       "4  Pokemon Red/Pokemon Blue       GB           1996.0  Role-Playing     11.27   \n",
       "\n",
       "   EU_sales  JP_sales  Other_sales  Critic_Score User_Score Rating  \n",
       "0     28.96      3.77         8.45          76.0          8      E  \n",
       "1      3.58      6.81         0.77           NaN        NaN    NaN  \n",
       "2     12.76      3.79         3.29          82.0        8.3      E  \n",
       "3     10.93      3.28         2.95          80.0          8      E  \n",
       "4      8.89     10.22         1.00           NaN        NaN    NaN  "
      ]
     },
     "execution_count": 4,
     "metadata": {},
     "output_type": "execute_result"
    }
   ],
   "source": [
    "# mostramos parte de los datos\n",
    "data_games.head()"
   ]
  },
  {
   "cell_type": "code",
   "execution_count": 5,
   "metadata": {},
   "outputs": [
    {
     "name": "stdout",
     "output_type": "stream",
     "text": [
      "<class 'pandas.core.frame.DataFrame'>\n",
      "RangeIndex: 16715 entries, 0 to 16714\n",
      "Data columns (total 11 columns):\n",
      " #   Column           Non-Null Count  Dtype  \n",
      "---  ------           --------------  -----  \n",
      " 0   Name             16713 non-null  object \n",
      " 1   Platform         16715 non-null  object \n",
      " 2   Year_of_Release  16446 non-null  float64\n",
      " 3   Genre            16713 non-null  object \n",
      " 4   NA_sales         16715 non-null  float64\n",
      " 5   EU_sales         16715 non-null  float64\n",
      " 6   JP_sales         16715 non-null  float64\n",
      " 7   Other_sales      16715 non-null  float64\n",
      " 8   Critic_Score     8137 non-null   float64\n",
      " 9   User_Score       10014 non-null  object \n",
      " 10  Rating           9949 non-null   object \n",
      "dtypes: float64(6), object(5)\n",
      "memory usage: 1.4+ MB\n"
     ]
    }
   ],
   "source": [
    "# mostramos información general del dataset\n",
    "data_games.info()"
   ]
  },
  {
   "cell_type": "markdown",
   "metadata": {},
   "source": [
    "Podemos observar que tenemos un dataframe con **16,715 filas** y **11 columnas**. Tenemos algunos valores nulos en varias columnas. Hay que corregir el nombre de las columnas y el tipo de datos que contienen."
   ]
  },
  {
   "cell_type": "markdown",
   "metadata": {},
   "source": [
    "Vamos a corregir el nombre de las columnas **usando las reglas de snake_case.**"
   ]
  },
  {
   "cell_type": "markdown",
   "metadata": {},
   "source": [
    "[Contenidos](#contenidos)\n",
    "### Cambiando nombres de columnas"
   ]
  },
  {
   "cell_type": "code",
   "execution_count": 6,
   "metadata": {},
   "outputs": [],
   "source": [
    "# transformamos el nombre de las columnas a minusculas\n",
    "data_games.columns=data_games.columns.str.lower()"
   ]
  },
  {
   "cell_type": "code",
   "execution_count": 7,
   "metadata": {},
   "outputs": [
    {
     "data": {
      "text/plain": [
       "Index(['name', 'platform', 'year_of_release', 'genre', 'na_sales', 'eu_sales',\n",
       "       'jp_sales', 'other_sales', 'critic_score', 'user_score', 'rating'],\n",
       "      dtype='object')"
      ]
     },
     "execution_count": 7,
     "metadata": {},
     "output_type": "execute_result"
    }
   ],
   "source": [
    "# verificamos que se haya hecho el cambio\n",
    "data_games.columns"
   ]
  },
  {
   "cell_type": "code",
   "execution_count": 8,
   "metadata": {},
   "outputs": [
    {
     "data": {
      "text/plain": [
       "name                  2\n",
       "platform              0\n",
       "year_of_release     269\n",
       "genre                 2\n",
       "na_sales              0\n",
       "eu_sales              0\n",
       "jp_sales              0\n",
       "other_sales           0\n",
       "critic_score       8578\n",
       "user_score         6701\n",
       "rating             6766\n",
       "dtype: int64"
      ]
     },
     "execution_count": 8,
     "metadata": {},
     "output_type": "execute_result"
    }
   ],
   "source": [
    "# buscamos valores nulos en las columnas\n",
    "data_games.isna().sum()"
   ]
  },
  {
   "cell_type": "code",
   "execution_count": 9,
   "metadata": {},
   "outputs": [
    {
     "data": {
      "text/html": [
       "<div>\n",
       "<style scoped>\n",
       "    .dataframe tbody tr th:only-of-type {\n",
       "        vertical-align: middle;\n",
       "    }\n",
       "\n",
       "    .dataframe tbody tr th {\n",
       "        vertical-align: top;\n",
       "    }\n",
       "\n",
       "    .dataframe thead th {\n",
       "        text-align: right;\n",
       "    }\n",
       "</style>\n",
       "<table border=\"1\" class=\"dataframe\">\n",
       "  <thead>\n",
       "    <tr style=\"text-align: right;\">\n",
       "      <th></th>\n",
       "      <th>name</th>\n",
       "      <th>platform</th>\n",
       "      <th>year_of_release</th>\n",
       "      <th>genre</th>\n",
       "      <th>na_sales</th>\n",
       "      <th>eu_sales</th>\n",
       "      <th>jp_sales</th>\n",
       "      <th>other_sales</th>\n",
       "      <th>critic_score</th>\n",
       "      <th>user_score</th>\n",
       "      <th>rating</th>\n",
       "    </tr>\n",
       "  </thead>\n",
       "  <tbody>\n",
       "    <tr>\n",
       "      <th>659</th>\n",
       "      <td>NaN</td>\n",
       "      <td>GEN</td>\n",
       "      <td>1993.0</td>\n",
       "      <td>NaN</td>\n",
       "      <td>1.78</td>\n",
       "      <td>0.53</td>\n",
       "      <td>0.00</td>\n",
       "      <td>0.08</td>\n",
       "      <td>NaN</td>\n",
       "      <td>NaN</td>\n",
       "      <td>NaN</td>\n",
       "    </tr>\n",
       "    <tr>\n",
       "      <th>14244</th>\n",
       "      <td>NaN</td>\n",
       "      <td>GEN</td>\n",
       "      <td>1993.0</td>\n",
       "      <td>NaN</td>\n",
       "      <td>0.00</td>\n",
       "      <td>0.00</td>\n",
       "      <td>0.03</td>\n",
       "      <td>0.00</td>\n",
       "      <td>NaN</td>\n",
       "      <td>NaN</td>\n",
       "      <td>NaN</td>\n",
       "    </tr>\n",
       "  </tbody>\n",
       "</table>\n",
       "</div>"
      ],
      "text/plain": [
       "      name platform  year_of_release genre  na_sales  eu_sales  jp_sales  \\\n",
       "659    NaN      GEN           1993.0   NaN      1.78      0.53      0.00   \n",
       "14244  NaN      GEN           1993.0   NaN      0.00      0.00      0.03   \n",
       "\n",
       "       other_sales  critic_score user_score rating  \n",
       "659           0.08           NaN        NaN    NaN  \n",
       "14244         0.00           NaN        NaN    NaN  "
      ]
     },
     "execution_count": 9,
     "metadata": {},
     "output_type": "execute_result"
    }
   ],
   "source": [
    "# mostramos las filas donde el nombre del juego está en blanco\n",
    "data_games[data_games['name'].isna()]"
   ]
  },
  {
   "cell_type": "markdown",
   "metadata": {},
   "source": [
    "Vamos a proceder reemplazando los valores nulos en las columnas `'name'` y `'genre'` por el marcador `'unknown'` y no perder la información de las ventas realizadas."
   ]
  },
  {
   "cell_type": "markdown",
   "metadata": {},
   "source": [
    "[Contenidos](#contenidos)\n",
    "### Reemplazando valores nulos en `'year_of_release'`"
   ]
  },
  {
   "cell_type": "code",
   "execution_count": 10,
   "metadata": {},
   "outputs": [],
   "source": [
    "# reemplazamos los valores nulos en las columnas 'name' y 'genre' por 'unknown'\n",
    "data_games['name'].fillna('unknown',inplace=True)\n",
    "data_games['genre'].fillna('unknown',inplace=True)"
   ]
  },
  {
   "cell_type": "markdown",
   "metadata": {},
   "source": [
    "Los valores nulos en la columna `'year_of_release'` los reemplazaremos usando una función para buscar el nombre y el año de lanzamiento en el set de datos."
   ]
  },
  {
   "cell_type": "code",
   "execution_count": 11,
   "metadata": {},
   "outputs": [],
   "source": [
    "# creamos un set de datos sin valores nulos en la columna 'year_of_release'\n",
    "data_games_notna=data_games[data_games['year_of_release'].notna()]"
   ]
  },
  {
   "cell_type": "code",
   "execution_count": 12,
   "metadata": {},
   "outputs": [
    {
     "data": {
      "text/html": [
       "<div>\n",
       "<style scoped>\n",
       "    .dataframe tbody tr th:only-of-type {\n",
       "        vertical-align: middle;\n",
       "    }\n",
       "\n",
       "    .dataframe tbody tr th {\n",
       "        vertical-align: top;\n",
       "    }\n",
       "\n",
       "    .dataframe thead th {\n",
       "        text-align: right;\n",
       "    }\n",
       "</style>\n",
       "<table border=\"1\" class=\"dataframe\">\n",
       "  <thead>\n",
       "    <tr style=\"text-align: right;\">\n",
       "      <th></th>\n",
       "      <th>year_of_release</th>\n",
       "      <th>name</th>\n",
       "      <th>platform</th>\n",
       "    </tr>\n",
       "  </thead>\n",
       "  <tbody>\n",
       "    <tr>\n",
       "      <th>0</th>\n",
       "      <td>1980.0</td>\n",
       "      <td>Asteroids</td>\n",
       "      <td>1</td>\n",
       "    </tr>\n",
       "    <tr>\n",
       "      <th>1</th>\n",
       "      <td>1980.0</td>\n",
       "      <td>Boxing</td>\n",
       "      <td>1</td>\n",
       "    </tr>\n",
       "    <tr>\n",
       "      <th>2</th>\n",
       "      <td>1980.0</td>\n",
       "      <td>Bridge</td>\n",
       "      <td>1</td>\n",
       "    </tr>\n",
       "    <tr>\n",
       "      <th>3</th>\n",
       "      <td>1980.0</td>\n",
       "      <td>Checkers</td>\n",
       "      <td>1</td>\n",
       "    </tr>\n",
       "    <tr>\n",
       "      <th>4</th>\n",
       "      <td>1980.0</td>\n",
       "      <td>Defender</td>\n",
       "      <td>1</td>\n",
       "    </tr>\n",
       "  </tbody>\n",
       "</table>\n",
       "</div>"
      ],
      "text/plain": [
       "   year_of_release       name  platform\n",
       "0           1980.0  Asteroids         1\n",
       "1           1980.0     Boxing         1\n",
       "2           1980.0     Bridge         1\n",
       "3           1980.0   Checkers         1\n",
       "4           1980.0   Defender         1"
      ]
     },
     "execution_count": 12,
     "metadata": {},
     "output_type": "execute_result"
    }
   ],
   "source": [
    "# creamos un set de datos con los valores de reemplazo\n",
    "datos_reemplazo=data_games_notna.pivot_table(index=['year_of_release','name'],\\\n",
    "                                             values='platform',aggfunc='count')\n",
    "datos_reemplazo.reset_index(inplace=True)\n",
    "datos_reemplazo.head()"
   ]
  },
  {
   "cell_type": "code",
   "execution_count": 13,
   "metadata": {},
   "outputs": [],
   "source": [
    "\"\"\" creamos una función para buscar y reemplazar el año de lanzamiento de un videojuego\"\"\"\n",
    "def replace_year_of_release(row):\n",
    "    \"\"\"\n",
    "    row= el dataframe donde haremos la búsqueda del valor a reemplazar\n",
    "    año_lanzamiento=año en que se estreno el videojuego en la plataforma\n",
    "    nombre=nombre del videojuego\n",
    "    \"\"\"\n",
    "    \n",
    "    año_lanzamiento=row['year_of_release']\n",
    "    # probamos si el año de lanzamiento es nulo\n",
    "    if math.isnan(año_lanzamiento):\n",
    "        # obtenemos el nombre del juego\n",
    "        nombre=row['name']\n",
    "        # buscamos el valor de reemplazo\n",
    "        try:\n",
    "            valor_reemplazo=float(datos_reemplazo.loc[datos_reemplazo['name']==nombre]\\\n",
    "                                  ['year_of_release'].unique())\n",
    "            return valor_reemplazo\n",
    "        except:\n",
    "        # si existe más de un año de lanzamiento para ese nombre del juego  o no existe alguno\n",
    "            return float('nan')\n",
    "            \n",
    "    else:\n",
    "        #valor_reemplazo=row['year_of_release']\n",
    "        return año_lanzamiento"
   ]
  },
  {
   "cell_type": "code",
   "execution_count": 14,
   "metadata": {},
   "outputs": [],
   "source": [
    "# aplicamos la función para reemplazar los valores nulos en 'year_of_release'\n",
    "data_games['year_of_release']=data_games.apply(replace_year_of_release,axis=1)"
   ]
  },
  {
   "cell_type": "code",
   "execution_count": 15,
   "metadata": {},
   "outputs": [
    {
     "data": {
      "text/plain": [
       "name                  0\n",
       "platform              0\n",
       "year_of_release     158\n",
       "genre                 0\n",
       "na_sales              0\n",
       "eu_sales              0\n",
       "jp_sales              0\n",
       "other_sales           0\n",
       "critic_score       8578\n",
       "user_score         6701\n",
       "rating             6766\n",
       "dtype: int64"
      ]
     },
     "execution_count": 15,
     "metadata": {},
     "output_type": "execute_result"
    }
   ],
   "source": [
    "# verificamos los valores nulos nuevamente\n",
    "data_games.isna().sum()"
   ]
  },
  {
   "cell_type": "markdown",
   "metadata": {},
   "source": [
    "Nos restan 158 valores nulos en la columna `'year_of_release'`. La única manera de reemplazar ahora esos valores nulos es buscando la información relativa en otra fuente externa de información. Por el momento vamos a eliminar esos valores nulos y continuar revisando las demás columnas."
   ]
  },
  {
   "cell_type": "code",
   "execution_count": 16,
   "metadata": {},
   "outputs": [],
   "source": [
    "# eliminar valores nulos en 'year_of_release'\n",
    "data_games=data_games[data_games['year_of_release'].notna()].copy()"
   ]
  },
  {
   "cell_type": "markdown",
   "metadata": {},
   "source": [
    "Revisemos ahora la columna `'critic_score'`."
   ]
  },
  {
   "cell_type": "code",
   "execution_count": 17,
   "metadata": {},
   "outputs": [
    {
     "data": {
      "text/plain": [
       "name                0\n",
       "platform            0\n",
       "year_of_release     0\n",
       "genre               0\n",
       "na_sales            0\n",
       "eu_sales            0\n",
       "jp_sales            0\n",
       "other_sales         0\n",
       "critic_score        0\n",
       "user_score         37\n",
       "rating             82\n",
       "dtype: int64"
      ]
     },
     "execution_count": 17,
     "metadata": {},
     "output_type": "execute_result"
    }
   ],
   "source": [
    "# ¿Qué pasa si eliminamos los valores nulos en 'critic_score'?\n",
    "data_games[data_games['critic_score'].notna()].isna().sum()"
   ]
  },
  {
   "cell_type": "code",
   "execution_count": 18,
   "metadata": {},
   "outputs": [
    {
     "data": {
      "text/plain": [
       "8068"
      ]
     },
     "execution_count": 18,
     "metadata": {},
     "output_type": "execute_result"
    }
   ],
   "source": [
    "# longitud del dataset sin valores nulos en la columna 'critic_score'\n",
    "len(data_games[data_games['critic_score'].notna()])"
   ]
  },
  {
   "cell_type": "markdown",
   "metadata": {},
   "source": [
    "Podemos notar que si decidieramos eliminar los valores nulos en la columna `'critic_score'` aún nos quedarían algunos valores nulos en las demás columnas. Además de que si decidieramos eliminar las filas con valores nulos en la columna `'critic_score'`, estaríamos eliminando casi la mitad de la información. Por el momento, vamos a quedarnos con todos esos valores nulos en el dataset."
   ]
  },
  {
   "cell_type": "markdown",
   "metadata": {},
   "source": [
    "Revisemos ahora la columna `'user_score'`."
   ]
  },
  {
   "cell_type": "code",
   "execution_count": 19,
   "metadata": {},
   "outputs": [
    {
     "data": {
      "text/plain": [
       "tbd    2391\n",
       "7.8     324\n",
       "8       287\n",
       "8.2     279\n",
       "8.3     253\n",
       "       ... \n",
       "1.1       2\n",
       "1.9       2\n",
       "9.6       2\n",
       "0         1\n",
       "9.7       1\n",
       "Name: user_score, Length: 96, dtype: int64"
      ]
     },
     "execution_count": 19,
     "metadata": {},
     "output_type": "execute_result"
    }
   ],
   "source": [
    "# mostramos los valores en la columna 'user_score'\n",
    "data_games['user_score'].value_counts()"
   ]
  },
  {
   "cell_type": "code",
   "execution_count": 20,
   "metadata": {},
   "outputs": [],
   "source": [
    "# cambiemos los valores 'tbd' en la columna 'user_score' por NaN y poder tratarla como tipo float\n",
    "data_games['user_score'].replace('tbd',float('nan'),inplace=True)"
   ]
  },
  {
   "cell_type": "code",
   "execution_count": 21,
   "metadata": {},
   "outputs": [
    {
     "name": "stdout",
     "output_type": "stream",
     "text": [
      "<class 'pandas.core.frame.DataFrame'>\n",
      "Int64Index: 16557 entries, 0 to 16714\n",
      "Data columns (total 11 columns):\n",
      " #   Column           Non-Null Count  Dtype  \n",
      "---  ------           --------------  -----  \n",
      " 0   name             16557 non-null  object \n",
      " 1   platform         16557 non-null  object \n",
      " 2   year_of_release  16557 non-null  int32  \n",
      " 3   genre            16557 non-null  object \n",
      " 4   na_sales         16557 non-null  float64\n",
      " 5   eu_sales         16557 non-null  float64\n",
      " 6   jp_sales         16557 non-null  float64\n",
      " 7   other_sales      16557 non-null  float64\n",
      " 8   critic_score     8068 non-null   float64\n",
      " 9   user_score       7535 non-null   float64\n",
      " 10  rating           9860 non-null   object \n",
      "dtypes: float64(6), int32(1), object(4)\n",
      "memory usage: 1.5+ MB\n"
     ]
    }
   ],
   "source": [
    "# cambiamos el tipo de datos de la columna 'user_score'\n",
    "data_games['user_score']=data_games['user_score'].astype(float)\n",
    "data_games['year_of_release']=data_games['year_of_release'].astype(int)\n",
    "data_games.info()"
   ]
  },
  {
   "cell_type": "markdown",
   "metadata": {},
   "source": [
    "En este dataset `'data_games'` ya tenemos el tipo de datos correcto para cada columna y aún tenemos algunos valores nulos.  "
   ]
  },
  {
   "cell_type": "markdown",
   "metadata": {},
   "source": [
    "[Contenidos](#contenidos)\n",
    "### Reemplazando valores nulos en `'critic_score'` y `'user_score'`"
   ]
  },
  {
   "cell_type": "markdown",
   "metadata": {},
   "source": [
    "Dado que la calificación de los juegos dependen no solo del videojuego y las características del mismo, sino como  del momento y los países en que fue lanzado, así como también de las características de las personas que realizan las votaciones, no tenemos información suficiente para imputar estos datos. Vamos a proceder, por el momento, a dejar esos valores nulos."
   ]
  },
  {
   "cell_type": "markdown",
   "metadata": {},
   "source": [
    "[Contenidos](#contenidos)\n",
    "### Reemplazando valores nulos en `'rating'`"
   ]
  },
  {
   "cell_type": "markdown",
   "metadata": {},
   "source": [
    "Para reemplazar los valores nulos en la columna `'rating'` haremos uso de la moda en base a la agrupación por `'genre'`."
   ]
  },
  {
   "cell_type": "code",
   "execution_count": 22,
   "metadata": {},
   "outputs": [],
   "source": [
    "# creamos un dataset sin valores nulos en 'rating'\n",
    "data_games_notna=data_games[data_games['rating'].notna()]"
   ]
  },
  {
   "cell_type": "code",
   "execution_count": 23,
   "metadata": {},
   "outputs": [
    {
     "data": {
      "text/html": [
       "<div>\n",
       "<style scoped>\n",
       "    .dataframe tbody tr th:only-of-type {\n",
       "        vertical-align: middle;\n",
       "    }\n",
       "\n",
       "    .dataframe tbody tr th {\n",
       "        vertical-align: top;\n",
       "    }\n",
       "\n",
       "    .dataframe thead th {\n",
       "        text-align: right;\n",
       "    }\n",
       "</style>\n",
       "<table border=\"1\" class=\"dataframe\">\n",
       "  <thead>\n",
       "    <tr style=\"text-align: right;\">\n",
       "      <th></th>\n",
       "      <th>genre</th>\n",
       "      <th>rating</th>\n",
       "      <th>frecuencia</th>\n",
       "    </tr>\n",
       "  </thead>\n",
       "  <tbody>\n",
       "    <tr>\n",
       "      <th>0</th>\n",
       "      <td>Action</td>\n",
       "      <td>AO</td>\n",
       "      <td>1</td>\n",
       "    </tr>\n",
       "    <tr>\n",
       "      <th>1</th>\n",
       "      <td>Action</td>\n",
       "      <td>E</td>\n",
       "      <td>414</td>\n",
       "    </tr>\n",
       "    <tr>\n",
       "      <th>2</th>\n",
       "      <td>Action</td>\n",
       "      <td>E10+</td>\n",
       "      <td>481</td>\n",
       "    </tr>\n",
       "    <tr>\n",
       "      <th>3</th>\n",
       "      <td>Action</td>\n",
       "      <td>EC</td>\n",
       "      <td>1</td>\n",
       "    </tr>\n",
       "    <tr>\n",
       "      <th>4</th>\n",
       "      <td>Action</td>\n",
       "      <td>M</td>\n",
       "      <td>602</td>\n",
       "    </tr>\n",
       "  </tbody>\n",
       "</table>\n",
       "</div>"
      ],
      "text/plain": [
       "    genre rating  frecuencia\n",
       "0  Action     AO           1\n",
       "1  Action      E         414\n",
       "2  Action   E10+         481\n",
       "3  Action     EC           1\n",
       "4  Action      M         602"
      ]
     },
     "execution_count": 23,
     "metadata": {},
     "output_type": "execute_result"
    }
   ],
   "source": [
    "# creamos un set de datos con los valores de reemplazo\n",
    "datos_reemplazo=data_games_notna.pivot_table(index=['genre','rating'],\\\n",
    "                                             values='platform',aggfunc='count')\n",
    "datos_reemplazo.reset_index(inplace=True)\n",
    "datos_reemplazo.rename(columns={'platform':'frecuencia'},inplace=True)\n",
    "datos_reemplazo.head()"
   ]
  },
  {
   "cell_type": "code",
   "execution_count": 24,
   "metadata": {},
   "outputs": [],
   "source": [
    "# reemplazamos los valores nulos en 'rating' por 'unknown'\n",
    "data_games['rating'].fillna('unknown',inplace=True)"
   ]
  },
  {
   "cell_type": "code",
   "execution_count": 25,
   "metadata": {},
   "outputs": [
    {
     "data": {
      "text/html": [
       "<div>\n",
       "<style scoped>\n",
       "    .dataframe tbody tr th:only-of-type {\n",
       "        vertical-align: middle;\n",
       "    }\n",
       "\n",
       "    .dataframe tbody tr th {\n",
       "        vertical-align: top;\n",
       "    }\n",
       "\n",
       "    .dataframe thead th {\n",
       "        text-align: right;\n",
       "    }\n",
       "</style>\n",
       "<table border=\"1\" class=\"dataframe\">\n",
       "  <thead>\n",
       "    <tr style=\"text-align: right;\">\n",
       "      <th></th>\n",
       "      <th>name</th>\n",
       "      <th>platform</th>\n",
       "      <th>year_of_release</th>\n",
       "      <th>genre</th>\n",
       "      <th>na_sales</th>\n",
       "      <th>eu_sales</th>\n",
       "      <th>jp_sales</th>\n",
       "      <th>other_sales</th>\n",
       "      <th>critic_score</th>\n",
       "      <th>user_score</th>\n",
       "      <th>rating</th>\n",
       "    </tr>\n",
       "  </thead>\n",
       "  <tbody>\n",
       "    <tr>\n",
       "      <th>1</th>\n",
       "      <td>Super Mario Bros.</td>\n",
       "      <td>NES</td>\n",
       "      <td>1985</td>\n",
       "      <td>Platform</td>\n",
       "      <td>29.08</td>\n",
       "      <td>3.58</td>\n",
       "      <td>6.81</td>\n",
       "      <td>0.77</td>\n",
       "      <td>NaN</td>\n",
       "      <td>NaN</td>\n",
       "      <td>unknown</td>\n",
       "    </tr>\n",
       "    <tr>\n",
       "      <th>4</th>\n",
       "      <td>Pokemon Red/Pokemon Blue</td>\n",
       "      <td>GB</td>\n",
       "      <td>1996</td>\n",
       "      <td>Role-Playing</td>\n",
       "      <td>11.27</td>\n",
       "      <td>8.89</td>\n",
       "      <td>10.22</td>\n",
       "      <td>1.00</td>\n",
       "      <td>NaN</td>\n",
       "      <td>NaN</td>\n",
       "      <td>unknown</td>\n",
       "    </tr>\n",
       "  </tbody>\n",
       "</table>\n",
       "</div>"
      ],
      "text/plain": [
       "                       name platform  year_of_release         genre  na_sales  \\\n",
       "1         Super Mario Bros.      NES             1985      Platform     29.08   \n",
       "4  Pokemon Red/Pokemon Blue       GB             1996  Role-Playing     11.27   \n",
       "\n",
       "   eu_sales  jp_sales  other_sales  critic_score  user_score   rating  \n",
       "1      3.58      6.81         0.77           NaN         NaN  unknown  \n",
       "4      8.89     10.22         1.00           NaN         NaN  unknown  "
      ]
     },
     "execution_count": 25,
     "metadata": {},
     "output_type": "execute_result"
    }
   ],
   "source": [
    "data_games[data_games['rating']=='unknown'].head(2)"
   ]
  },
  {
   "cell_type": "code",
   "execution_count": 26,
   "metadata": {},
   "outputs": [],
   "source": [
    "\"\"\" creamos una función para buscar y reemplazar valores nulos en 'rating'\"\"\"\n",
    "def replace_rating(row):\n",
    "    \"\"\"\n",
    "    row= el dataframe donde haremos la búsqueda del valor a reemplazar\n",
    "    clasificacion=rating ESRB del videojuego\n",
    "    genero=genero del videojuego\n",
    "    \"\"\"\n",
    "    \n",
    "    clasificacion=row['rating']\n",
    "    # probamos si 'clasificacion' es 'unknown'\n",
    "    if clasificacion=='unknown':\n",
    "        # obtenemos el genero del juego\n",
    "        genero=row['genre']\n",
    "        # buscamos el valor de reemplazo\n",
    "        frec=datos_reemplazo.loc[datos_reemplazo['genre']==genero,'frecuencia'].max()\n",
    "        try:\n",
    "            # .values[0] extrae el valor de una serie\n",
    "            valor_reemplazo=datos_reemplazo.loc[(datos_reemplazo['genre']==genero)&\\\n",
    "                                                (datos_reemplazo['frecuencia']==frec)]['rating'].values[0]\n",
    "            return valor_reemplazo\n",
    "        except:\n",
    "            # si no encuentra un genero en el set de datos de reemplazo\n",
    "            return float('nan')\n",
    "            \n",
    "    else:\n",
    "        return clasificacion"
   ]
  },
  {
   "cell_type": "code",
   "execution_count": 27,
   "metadata": {},
   "outputs": [],
   "source": [
    "# aplicamos la función para reemplazar los valores nulos en 'rating'\n",
    "data_games['rating']=data_games.apply(replace_rating,axis=1)"
   ]
  },
  {
   "cell_type": "code",
   "execution_count": 28,
   "metadata": {},
   "outputs": [
    {
     "data": {
      "text/html": [
       "<div>\n",
       "<style scoped>\n",
       "    .dataframe tbody tr th:only-of-type {\n",
       "        vertical-align: middle;\n",
       "    }\n",
       "\n",
       "    .dataframe tbody tr th {\n",
       "        vertical-align: top;\n",
       "    }\n",
       "\n",
       "    .dataframe thead th {\n",
       "        text-align: right;\n",
       "    }\n",
       "</style>\n",
       "<table border=\"1\" class=\"dataframe\">\n",
       "  <thead>\n",
       "    <tr style=\"text-align: right;\">\n",
       "      <th></th>\n",
       "      <th>name</th>\n",
       "      <th>platform</th>\n",
       "      <th>year_of_release</th>\n",
       "      <th>genre</th>\n",
       "      <th>na_sales</th>\n",
       "      <th>eu_sales</th>\n",
       "      <th>jp_sales</th>\n",
       "      <th>other_sales</th>\n",
       "      <th>critic_score</th>\n",
       "      <th>user_score</th>\n",
       "      <th>rating</th>\n",
       "    </tr>\n",
       "  </thead>\n",
       "  <tbody>\n",
       "    <tr>\n",
       "      <th>0</th>\n",
       "      <td>Wii Sports</td>\n",
       "      <td>Wii</td>\n",
       "      <td>2006</td>\n",
       "      <td>Sports</td>\n",
       "      <td>41.36</td>\n",
       "      <td>28.96</td>\n",
       "      <td>3.77</td>\n",
       "      <td>8.45</td>\n",
       "      <td>76.0</td>\n",
       "      <td>8.0</td>\n",
       "      <td>E</td>\n",
       "    </tr>\n",
       "    <tr>\n",
       "      <th>1</th>\n",
       "      <td>Super Mario Bros.</td>\n",
       "      <td>NES</td>\n",
       "      <td>1985</td>\n",
       "      <td>Platform</td>\n",
       "      <td>29.08</td>\n",
       "      <td>3.58</td>\n",
       "      <td>6.81</td>\n",
       "      <td>0.77</td>\n",
       "      <td>NaN</td>\n",
       "      <td>NaN</td>\n",
       "      <td>E</td>\n",
       "    </tr>\n",
       "    <tr>\n",
       "      <th>2</th>\n",
       "      <td>Mario Kart Wii</td>\n",
       "      <td>Wii</td>\n",
       "      <td>2008</td>\n",
       "      <td>Racing</td>\n",
       "      <td>15.68</td>\n",
       "      <td>12.76</td>\n",
       "      <td>3.79</td>\n",
       "      <td>3.29</td>\n",
       "      <td>82.0</td>\n",
       "      <td>8.3</td>\n",
       "      <td>E</td>\n",
       "    </tr>\n",
       "    <tr>\n",
       "      <th>3</th>\n",
       "      <td>Wii Sports Resort</td>\n",
       "      <td>Wii</td>\n",
       "      <td>2009</td>\n",
       "      <td>Sports</td>\n",
       "      <td>15.61</td>\n",
       "      <td>10.93</td>\n",
       "      <td>3.28</td>\n",
       "      <td>2.95</td>\n",
       "      <td>80.0</td>\n",
       "      <td>8.0</td>\n",
       "      <td>E</td>\n",
       "    </tr>\n",
       "    <tr>\n",
       "      <th>4</th>\n",
       "      <td>Pokemon Red/Pokemon Blue</td>\n",
       "      <td>GB</td>\n",
       "      <td>1996</td>\n",
       "      <td>Role-Playing</td>\n",
       "      <td>11.27</td>\n",
       "      <td>8.89</td>\n",
       "      <td>10.22</td>\n",
       "      <td>1.00</td>\n",
       "      <td>NaN</td>\n",
       "      <td>NaN</td>\n",
       "      <td>T</td>\n",
       "    </tr>\n",
       "    <tr>\n",
       "      <th>5</th>\n",
       "      <td>Tetris</td>\n",
       "      <td>GB</td>\n",
       "      <td>1989</td>\n",
       "      <td>Puzzle</td>\n",
       "      <td>23.20</td>\n",
       "      <td>2.26</td>\n",
       "      <td>4.22</td>\n",
       "      <td>0.58</td>\n",
       "      <td>NaN</td>\n",
       "      <td>NaN</td>\n",
       "      <td>E</td>\n",
       "    </tr>\n",
       "    <tr>\n",
       "      <th>6</th>\n",
       "      <td>New Super Mario Bros.</td>\n",
       "      <td>DS</td>\n",
       "      <td>2006</td>\n",
       "      <td>Platform</td>\n",
       "      <td>11.28</td>\n",
       "      <td>9.14</td>\n",
       "      <td>6.50</td>\n",
       "      <td>2.88</td>\n",
       "      <td>89.0</td>\n",
       "      <td>8.5</td>\n",
       "      <td>E</td>\n",
       "    </tr>\n",
       "    <tr>\n",
       "      <th>7</th>\n",
       "      <td>Wii Play</td>\n",
       "      <td>Wii</td>\n",
       "      <td>2006</td>\n",
       "      <td>Misc</td>\n",
       "      <td>13.96</td>\n",
       "      <td>9.18</td>\n",
       "      <td>2.93</td>\n",
       "      <td>2.84</td>\n",
       "      <td>58.0</td>\n",
       "      <td>6.6</td>\n",
       "      <td>E</td>\n",
       "    </tr>\n",
       "    <tr>\n",
       "      <th>8</th>\n",
       "      <td>New Super Mario Bros. Wii</td>\n",
       "      <td>Wii</td>\n",
       "      <td>2009</td>\n",
       "      <td>Platform</td>\n",
       "      <td>14.44</td>\n",
       "      <td>6.94</td>\n",
       "      <td>4.70</td>\n",
       "      <td>2.24</td>\n",
       "      <td>87.0</td>\n",
       "      <td>8.4</td>\n",
       "      <td>E</td>\n",
       "    </tr>\n",
       "    <tr>\n",
       "      <th>9</th>\n",
       "      <td>Duck Hunt</td>\n",
       "      <td>NES</td>\n",
       "      <td>1984</td>\n",
       "      <td>Shooter</td>\n",
       "      <td>26.93</td>\n",
       "      <td>0.63</td>\n",
       "      <td>0.28</td>\n",
       "      <td>0.47</td>\n",
       "      <td>NaN</td>\n",
       "      <td>NaN</td>\n",
       "      <td>M</td>\n",
       "    </tr>\n",
       "  </tbody>\n",
       "</table>\n",
       "</div>"
      ],
      "text/plain": [
       "                        name platform  year_of_release         genre  \\\n",
       "0                 Wii Sports      Wii             2006        Sports   \n",
       "1          Super Mario Bros.      NES             1985      Platform   \n",
       "2             Mario Kart Wii      Wii             2008        Racing   \n",
       "3          Wii Sports Resort      Wii             2009        Sports   \n",
       "4   Pokemon Red/Pokemon Blue       GB             1996  Role-Playing   \n",
       "5                     Tetris       GB             1989        Puzzle   \n",
       "6      New Super Mario Bros.       DS             2006      Platform   \n",
       "7                   Wii Play      Wii             2006          Misc   \n",
       "8  New Super Mario Bros. Wii      Wii             2009      Platform   \n",
       "9                  Duck Hunt      NES             1984       Shooter   \n",
       "\n",
       "   na_sales  eu_sales  jp_sales  other_sales  critic_score  user_score rating  \n",
       "0     41.36     28.96      3.77         8.45          76.0         8.0      E  \n",
       "1     29.08      3.58      6.81         0.77           NaN         NaN      E  \n",
       "2     15.68     12.76      3.79         3.29          82.0         8.3      E  \n",
       "3     15.61     10.93      3.28         2.95          80.0         8.0      E  \n",
       "4     11.27      8.89     10.22         1.00           NaN         NaN      T  \n",
       "5     23.20      2.26      4.22         0.58           NaN         NaN      E  \n",
       "6     11.28      9.14      6.50         2.88          89.0         8.5      E  \n",
       "7     13.96      9.18      2.93         2.84          58.0         6.6      E  \n",
       "8     14.44      6.94      4.70         2.24          87.0         8.4      E  \n",
       "9     26.93      0.63      0.28         0.47           NaN         NaN      M  "
      ]
     },
     "execution_count": 28,
     "metadata": {},
     "output_type": "execute_result"
    }
   ],
   "source": [
    "data_games.head(10)"
   ]
  },
  {
   "cell_type": "code",
   "execution_count": 29,
   "metadata": {},
   "outputs": [
    {
     "data": {
      "text/plain": [
       "name                  0\n",
       "platform              0\n",
       "year_of_release       0\n",
       "genre                 0\n",
       "na_sales              0\n",
       "eu_sales              0\n",
       "jp_sales              0\n",
       "other_sales           0\n",
       "critic_score       8489\n",
       "user_score         9022\n",
       "rating                2\n",
       "dtype: int64"
      ]
     },
     "execution_count": 29,
     "metadata": {},
     "output_type": "execute_result"
    }
   ],
   "source": [
    "# verificamos los valores nulos que aún restan por reemplazar\n",
    "data_games.isna().sum()"
   ]
  },
  {
   "cell_type": "code",
   "execution_count": 30,
   "metadata": {},
   "outputs": [
    {
     "data": {
      "text/plain": [
       "0"
      ]
     },
     "execution_count": 30,
     "metadata": {},
     "output_type": "execute_result"
    }
   ],
   "source": [
    "# buscamos valores duplicados en el dataset\n",
    "data_games.duplicated().sum()"
   ]
  },
  {
   "cell_type": "markdown",
   "metadata": {},
   "source": [
    "No tenemos valores duplicados en el data set `'data_games'`, así que vamos a proceder con el análisis de las ventas de videojuegos."
   ]
  },
  {
   "cell_type": "markdown",
   "metadata": {},
   "source": [
    "[Contenidos](#contenidos)\n",
    "## Análisis de ventas  \n",
    "Creamos una columna que contenga las ventas totales para cada videojuego."
   ]
  },
  {
   "cell_type": "code",
   "execution_count": 31,
   "metadata": {},
   "outputs": [],
   "source": [
    "# calculamos las ventas totales para cada videojuego\n",
    "data_games['total_sales']=data_games['na_sales']+data_games['eu_sales']+\\\n",
    "                            data_games['jp_sales']+data_games['other_sales']"
   ]
  },
  {
   "cell_type": "code",
   "execution_count": 32,
   "metadata": {},
   "outputs": [
    {
     "data": {
      "text/html": [
       "<div>\n",
       "<style scoped>\n",
       "    .dataframe tbody tr th:only-of-type {\n",
       "        vertical-align: middle;\n",
       "    }\n",
       "\n",
       "    .dataframe tbody tr th {\n",
       "        vertical-align: top;\n",
       "    }\n",
       "\n",
       "    .dataframe thead th {\n",
       "        text-align: right;\n",
       "    }\n",
       "</style>\n",
       "<table border=\"1\" class=\"dataframe\">\n",
       "  <thead>\n",
       "    <tr style=\"text-align: right;\">\n",
       "      <th></th>\n",
       "      <th>name</th>\n",
       "      <th>platform</th>\n",
       "      <th>year_of_release</th>\n",
       "      <th>genre</th>\n",
       "      <th>na_sales</th>\n",
       "      <th>eu_sales</th>\n",
       "      <th>jp_sales</th>\n",
       "      <th>other_sales</th>\n",
       "      <th>critic_score</th>\n",
       "      <th>user_score</th>\n",
       "      <th>rating</th>\n",
       "      <th>total_sales</th>\n",
       "    </tr>\n",
       "  </thead>\n",
       "  <tbody>\n",
       "    <tr>\n",
       "      <th>0</th>\n",
       "      <td>Wii Sports</td>\n",
       "      <td>Wii</td>\n",
       "      <td>2006</td>\n",
       "      <td>Sports</td>\n",
       "      <td>41.36</td>\n",
       "      <td>28.96</td>\n",
       "      <td>3.77</td>\n",
       "      <td>8.45</td>\n",
       "      <td>76.0</td>\n",
       "      <td>8.0</td>\n",
       "      <td>E</td>\n",
       "      <td>82.54</td>\n",
       "    </tr>\n",
       "    <tr>\n",
       "      <th>1</th>\n",
       "      <td>Super Mario Bros.</td>\n",
       "      <td>NES</td>\n",
       "      <td>1985</td>\n",
       "      <td>Platform</td>\n",
       "      <td>29.08</td>\n",
       "      <td>3.58</td>\n",
       "      <td>6.81</td>\n",
       "      <td>0.77</td>\n",
       "      <td>NaN</td>\n",
       "      <td>NaN</td>\n",
       "      <td>E</td>\n",
       "      <td>40.24</td>\n",
       "    </tr>\n",
       "  </tbody>\n",
       "</table>\n",
       "</div>"
      ],
      "text/plain": [
       "                name platform  year_of_release     genre  na_sales  eu_sales  \\\n",
       "0         Wii Sports      Wii             2006    Sports     41.36     28.96   \n",
       "1  Super Mario Bros.      NES             1985  Platform     29.08      3.58   \n",
       "\n",
       "   jp_sales  other_sales  critic_score  user_score rating  total_sales  \n",
       "0      3.77         8.45          76.0         8.0      E        82.54  \n",
       "1      6.81         0.77           NaN         NaN      E        40.24  "
      ]
     },
     "execution_count": 32,
     "metadata": {},
     "output_type": "execute_result"
    }
   ],
   "source": [
    "data_games.head(2)"
   ]
  },
  {
   "cell_type": "markdown",
   "metadata": {},
   "source": [
    "[Contenidos](#contenidos)\n",
    "### Juegos lanzados por año"
   ]
  },
  {
   "cell_type": "markdown",
   "metadata": {},
   "source": [
    "Analicemos el nombre de un juego en particular: **'Grand Theft Auto V'**."
   ]
  },
  {
   "cell_type": "code",
   "execution_count": 33,
   "metadata": {
    "scrolled": true
   },
   "outputs": [
    {
     "data": {
      "text/html": [
       "<div>\n",
       "<style scoped>\n",
       "    .dataframe tbody tr th:only-of-type {\n",
       "        vertical-align: middle;\n",
       "    }\n",
       "\n",
       "    .dataframe tbody tr th {\n",
       "        vertical-align: top;\n",
       "    }\n",
       "\n",
       "    .dataframe thead th {\n",
       "        text-align: right;\n",
       "    }\n",
       "</style>\n",
       "<table border=\"1\" class=\"dataframe\">\n",
       "  <thead>\n",
       "    <tr style=\"text-align: right;\">\n",
       "      <th></th>\n",
       "      <th>name</th>\n",
       "      <th>platform</th>\n",
       "      <th>year_of_release</th>\n",
       "      <th>genre</th>\n",
       "      <th>na_sales</th>\n",
       "      <th>eu_sales</th>\n",
       "      <th>jp_sales</th>\n",
       "      <th>other_sales</th>\n",
       "      <th>critic_score</th>\n",
       "      <th>user_score</th>\n",
       "      <th>rating</th>\n",
       "      <th>total_sales</th>\n",
       "    </tr>\n",
       "  </thead>\n",
       "  <tbody>\n",
       "    <tr>\n",
       "      <th>16</th>\n",
       "      <td>Grand Theft Auto V</td>\n",
       "      <td>PS3</td>\n",
       "      <td>2013</td>\n",
       "      <td>Action</td>\n",
       "      <td>7.02</td>\n",
       "      <td>9.09</td>\n",
       "      <td>0.98</td>\n",
       "      <td>3.96</td>\n",
       "      <td>97.0</td>\n",
       "      <td>8.2</td>\n",
       "      <td>M</td>\n",
       "      <td>21.05</td>\n",
       "    </tr>\n",
       "    <tr>\n",
       "      <th>23</th>\n",
       "      <td>Grand Theft Auto V</td>\n",
       "      <td>X360</td>\n",
       "      <td>2013</td>\n",
       "      <td>Action</td>\n",
       "      <td>9.66</td>\n",
       "      <td>5.14</td>\n",
       "      <td>0.06</td>\n",
       "      <td>1.41</td>\n",
       "      <td>97.0</td>\n",
       "      <td>8.1</td>\n",
       "      <td>M</td>\n",
       "      <td>16.27</td>\n",
       "    </tr>\n",
       "    <tr>\n",
       "      <th>42</th>\n",
       "      <td>Grand Theft Auto V</td>\n",
       "      <td>PS4</td>\n",
       "      <td>2014</td>\n",
       "      <td>Action</td>\n",
       "      <td>3.96</td>\n",
       "      <td>6.31</td>\n",
       "      <td>0.38</td>\n",
       "      <td>1.97</td>\n",
       "      <td>97.0</td>\n",
       "      <td>8.3</td>\n",
       "      <td>M</td>\n",
       "      <td>12.62</td>\n",
       "    </tr>\n",
       "    <tr>\n",
       "      <th>165</th>\n",
       "      <td>Grand Theft Auto V</td>\n",
       "      <td>XOne</td>\n",
       "      <td>2014</td>\n",
       "      <td>Action</td>\n",
       "      <td>2.81</td>\n",
       "      <td>2.19</td>\n",
       "      <td>0.00</td>\n",
       "      <td>0.47</td>\n",
       "      <td>97.0</td>\n",
       "      <td>7.9</td>\n",
       "      <td>M</td>\n",
       "      <td>5.47</td>\n",
       "    </tr>\n",
       "    <tr>\n",
       "      <th>1730</th>\n",
       "      <td>Grand Theft Auto V</td>\n",
       "      <td>PC</td>\n",
       "      <td>2015</td>\n",
       "      <td>Action</td>\n",
       "      <td>0.39</td>\n",
       "      <td>0.69</td>\n",
       "      <td>0.00</td>\n",
       "      <td>0.09</td>\n",
       "      <td>96.0</td>\n",
       "      <td>7.9</td>\n",
       "      <td>M</td>\n",
       "      <td>1.17</td>\n",
       "    </tr>\n",
       "  </tbody>\n",
       "</table>\n",
       "</div>"
      ],
      "text/plain": [
       "                    name platform  year_of_release   genre  na_sales  \\\n",
       "16    Grand Theft Auto V      PS3             2013  Action      7.02   \n",
       "23    Grand Theft Auto V     X360             2013  Action      9.66   \n",
       "42    Grand Theft Auto V      PS4             2014  Action      3.96   \n",
       "165   Grand Theft Auto V     XOne             2014  Action      2.81   \n",
       "1730  Grand Theft Auto V       PC             2015  Action      0.39   \n",
       "\n",
       "      eu_sales  jp_sales  other_sales  critic_score  user_score rating  \\\n",
       "16        9.09      0.98         3.96          97.0         8.2      M   \n",
       "23        5.14      0.06         1.41          97.0         8.1      M   \n",
       "42        6.31      0.38         1.97          97.0         8.3      M   \n",
       "165       2.19      0.00         0.47          97.0         7.9      M   \n",
       "1730      0.69      0.00         0.09          96.0         7.9      M   \n",
       "\n",
       "      total_sales  \n",
       "16          21.05  \n",
       "23          16.27  \n",
       "42          12.62  \n",
       "165          5.47  \n",
       "1730         1.17  "
      ]
     },
     "execution_count": 33,
     "metadata": {},
     "output_type": "execute_result"
    }
   ],
   "source": [
    "# mostramos el dataset para un nombre de juego en particular\n",
    "data_games[data_games['name']=='Grand Theft Auto V']"
   ]
  },
  {
   "cell_type": "markdown",
   "metadata": {},
   "source": [
    "---\n",
    "**'Grand Theft Auto V'** es un juego que ha sido lanzado en varias plataformas y en distintos años. Si consideramos el nombre único del videojuego como un lanzamiento, entonces tendríamos un lanzamiento de este juego en el año 2013, uno en el 2014 y otro más en el 2015. Pero dado que la creación de un videojuego en cada plataforma tiene una arquitectura diferente, debemos considerar que el lanzamiento de un mismo videojuego en dos plataformas distintas debe contabilizarse como si fuesen dos juegos distintos. Bajo esta premisa debemos entonces contar cada registro de la tabla como un juego distinto."
   ]
  },
  {
   "cell_type": "code",
   "execution_count": 34,
   "metadata": {},
   "outputs": [
    {
     "data": {
      "text/html": [
       "<div>\n",
       "<style scoped>\n",
       "    .dataframe tbody tr th:only-of-type {\n",
       "        vertical-align: middle;\n",
       "    }\n",
       "\n",
       "    .dataframe tbody tr th {\n",
       "        vertical-align: top;\n",
       "    }\n",
       "\n",
       "    .dataframe thead th {\n",
       "        text-align: right;\n",
       "    }\n",
       "</style>\n",
       "<table border=\"1\" class=\"dataframe\">\n",
       "  <thead>\n",
       "    <tr style=\"text-align: right;\">\n",
       "      <th></th>\n",
       "      <th>name</th>\n",
       "    </tr>\n",
       "    <tr>\n",
       "      <th>year_of_release</th>\n",
       "      <th></th>\n",
       "    </tr>\n",
       "  </thead>\n",
       "  <tbody>\n",
       "    <tr>\n",
       "      <th>1980</th>\n",
       "      <td>9</td>\n",
       "    </tr>\n",
       "    <tr>\n",
       "      <th>1981</th>\n",
       "      <td>46</td>\n",
       "    </tr>\n",
       "    <tr>\n",
       "      <th>1982</th>\n",
       "      <td>36</td>\n",
       "    </tr>\n",
       "    <tr>\n",
       "      <th>1983</th>\n",
       "      <td>17</td>\n",
       "    </tr>\n",
       "    <tr>\n",
       "      <th>1984</th>\n",
       "      <td>14</td>\n",
       "    </tr>\n",
       "    <tr>\n",
       "      <th>1985</th>\n",
       "      <td>14</td>\n",
       "    </tr>\n",
       "    <tr>\n",
       "      <th>1986</th>\n",
       "      <td>21</td>\n",
       "    </tr>\n",
       "    <tr>\n",
       "      <th>1987</th>\n",
       "      <td>16</td>\n",
       "    </tr>\n",
       "    <tr>\n",
       "      <th>1988</th>\n",
       "      <td>15</td>\n",
       "    </tr>\n",
       "    <tr>\n",
       "      <th>1989</th>\n",
       "      <td>17</td>\n",
       "    </tr>\n",
       "    <tr>\n",
       "      <th>1990</th>\n",
       "      <td>16</td>\n",
       "    </tr>\n",
       "    <tr>\n",
       "      <th>1991</th>\n",
       "      <td>41</td>\n",
       "    </tr>\n",
       "    <tr>\n",
       "      <th>1992</th>\n",
       "      <td>43</td>\n",
       "    </tr>\n",
       "    <tr>\n",
       "      <th>1993</th>\n",
       "      <td>62</td>\n",
       "    </tr>\n",
       "    <tr>\n",
       "      <th>1994</th>\n",
       "      <td>121</td>\n",
       "    </tr>\n",
       "    <tr>\n",
       "      <th>1995</th>\n",
       "      <td>219</td>\n",
       "    </tr>\n",
       "    <tr>\n",
       "      <th>1996</th>\n",
       "      <td>263</td>\n",
       "    </tr>\n",
       "    <tr>\n",
       "      <th>1997</th>\n",
       "      <td>289</td>\n",
       "    </tr>\n",
       "    <tr>\n",
       "      <th>1998</th>\n",
       "      <td>379</td>\n",
       "    </tr>\n",
       "    <tr>\n",
       "      <th>1999</th>\n",
       "      <td>339</td>\n",
       "    </tr>\n",
       "    <tr>\n",
       "      <th>2000</th>\n",
       "      <td>350</td>\n",
       "    </tr>\n",
       "    <tr>\n",
       "      <th>2001</th>\n",
       "      <td>484</td>\n",
       "    </tr>\n",
       "    <tr>\n",
       "      <th>2002</th>\n",
       "      <td>842</td>\n",
       "    </tr>\n",
       "    <tr>\n",
       "      <th>2003</th>\n",
       "      <td>783</td>\n",
       "    </tr>\n",
       "    <tr>\n",
       "      <th>2004</th>\n",
       "      <td>764</td>\n",
       "    </tr>\n",
       "    <tr>\n",
       "      <th>2005</th>\n",
       "      <td>947</td>\n",
       "    </tr>\n",
       "    <tr>\n",
       "      <th>2006</th>\n",
       "      <td>1018</td>\n",
       "    </tr>\n",
       "    <tr>\n",
       "      <th>2007</th>\n",
       "      <td>1202</td>\n",
       "    </tr>\n",
       "    <tr>\n",
       "      <th>2008</th>\n",
       "      <td>1440</td>\n",
       "    </tr>\n",
       "    <tr>\n",
       "      <th>2009</th>\n",
       "      <td>1430</td>\n",
       "    </tr>\n",
       "    <tr>\n",
       "      <th>2010</th>\n",
       "      <td>1269</td>\n",
       "    </tr>\n",
       "    <tr>\n",
       "      <th>2011</th>\n",
       "      <td>1153</td>\n",
       "    </tr>\n",
       "    <tr>\n",
       "      <th>2012</th>\n",
       "      <td>662</td>\n",
       "    </tr>\n",
       "    <tr>\n",
       "      <th>2013</th>\n",
       "      <td>547</td>\n",
       "    </tr>\n",
       "    <tr>\n",
       "      <th>2014</th>\n",
       "      <td>581</td>\n",
       "    </tr>\n",
       "    <tr>\n",
       "      <th>2015</th>\n",
       "      <td>606</td>\n",
       "    </tr>\n",
       "    <tr>\n",
       "      <th>2016</th>\n",
       "      <td>502</td>\n",
       "    </tr>\n",
       "  </tbody>\n",
       "</table>\n",
       "</div>"
      ],
      "text/plain": [
       "                 name\n",
       "year_of_release      \n",
       "1980                9\n",
       "1981               46\n",
       "1982               36\n",
       "1983               17\n",
       "1984               14\n",
       "1985               14\n",
       "1986               21\n",
       "1987               16\n",
       "1988               15\n",
       "1989               17\n",
       "1990               16\n",
       "1991               41\n",
       "1992               43\n",
       "1993               62\n",
       "1994              121\n",
       "1995              219\n",
       "1996              263\n",
       "1997              289\n",
       "1998              379\n",
       "1999              339\n",
       "2000              350\n",
       "2001              484\n",
       "2002              842\n",
       "2003              783\n",
       "2004              764\n",
       "2005              947\n",
       "2006             1018\n",
       "2007             1202\n",
       "2008             1440\n",
       "2009             1430\n",
       "2010             1269\n",
       "2011             1153\n",
       "2012              662\n",
       "2013              547\n",
       "2014              581\n",
       "2015              606\n",
       "2016              502"
      ]
     },
     "execution_count": 34,
     "metadata": {},
     "output_type": "execute_result"
    }
   ],
   "source": [
    "# veamos cuántos juegos fueron lanzados cada año\n",
    "data_games.pivot_table(index='year_of_release',values='name',aggfunc='count')"
   ]
  },
  {
   "cell_type": "markdown",
   "metadata": {},
   "source": [
    "---\n",
    "Podemos notar que en los años 80's se lanzaron pocos videojuegos, para los años 90's hubo un incremento, alcanzando un pico máximo en el 2008 que se lanzaron 1441. A partir del año 2012, empezó a bajar la cantidad de videojuegos lanzados y estabilizandose a partir de dicho año entre 500 y 600 videjouegos lanzados por año, hasta el año 2016."
   ]
  },
  {
   "cell_type": "markdown",
   "metadata": {},
   "source": [
    "[Contenidos](#contenidos)\n",
    "### Ventas totales por plataforma  \n",
    "Para estudiar las ventas totales por plataforma, vamos a elegir las diez plataformas con las ventas totales más altas."
   ]
  },
  {
   "cell_type": "code",
   "execution_count": 35,
   "metadata": {},
   "outputs": [
    {
     "data": {
      "text/html": [
       "<div>\n",
       "<style scoped>\n",
       "    .dataframe tbody tr th:only-of-type {\n",
       "        vertical-align: middle;\n",
       "    }\n",
       "\n",
       "    .dataframe tbody tr th {\n",
       "        vertical-align: top;\n",
       "    }\n",
       "\n",
       "    .dataframe thead th {\n",
       "        text-align: right;\n",
       "    }\n",
       "</style>\n",
       "<table border=\"1\" class=\"dataframe\">\n",
       "  <thead>\n",
       "    <tr style=\"text-align: right;\">\n",
       "      <th></th>\n",
       "      <th>total_sales</th>\n",
       "    </tr>\n",
       "    <tr>\n",
       "      <th>platform</th>\n",
       "      <th></th>\n",
       "    </tr>\n",
       "  </thead>\n",
       "  <tbody>\n",
       "    <tr>\n",
       "      <th>PS2</th>\n",
       "      <td>1245.96</td>\n",
       "    </tr>\n",
       "    <tr>\n",
       "      <th>X360</th>\n",
       "      <td>966.61</td>\n",
       "    </tr>\n",
       "    <tr>\n",
       "      <th>PS3</th>\n",
       "      <td>934.71</td>\n",
       "    </tr>\n",
       "    <tr>\n",
       "      <th>Wii</th>\n",
       "      <td>903.31</td>\n",
       "    </tr>\n",
       "    <tr>\n",
       "      <th>DS</th>\n",
       "      <td>804.28</td>\n",
       "    </tr>\n",
       "    <tr>\n",
       "      <th>PS</th>\n",
       "      <td>727.58</td>\n",
       "    </tr>\n",
       "    <tr>\n",
       "      <th>PS4</th>\n",
       "      <td>314.14</td>\n",
       "    </tr>\n",
       "    <tr>\n",
       "      <th>GBA</th>\n",
       "      <td>313.73</td>\n",
       "    </tr>\n",
       "    <tr>\n",
       "      <th>PSP</th>\n",
       "      <td>292.77</td>\n",
       "    </tr>\n",
       "    <tr>\n",
       "      <th>PC</th>\n",
       "      <td>258.51</td>\n",
       "    </tr>\n",
       "  </tbody>\n",
       "</table>\n",
       "</div>"
      ],
      "text/plain": [
       "          total_sales\n",
       "platform             \n",
       "PS2           1245.96\n",
       "X360           966.61\n",
       "PS3            934.71\n",
       "Wii            903.31\n",
       "DS             804.28\n",
       "PS             727.58\n",
       "PS4            314.14\n",
       "GBA            313.73\n",
       "PSP            292.77\n",
       "PC             258.51"
      ]
     },
     "execution_count": 35,
     "metadata": {},
     "output_type": "execute_result"
    }
   ],
   "source": [
    "# veamos las ventas por plataforma, solo las diez mejores\n",
    "data_platform=data_games.pivot_table(index='platform',values='total_sales',aggfunc='sum')\\\n",
    "                    .sort_values(by=['total_sales','platform'],ascending=False)[0:10]\n",
    "data_platform"
   ]
  },
  {
   "cell_type": "markdown",
   "metadata": {},
   "source": [
    "Grafiquemos las ventas totales para estas plataformas a lo largo de los años."
   ]
  },
  {
   "cell_type": "code",
   "execution_count": 36,
   "metadata": {},
   "outputs": [
    {
     "data": {
      "image/png": "[encoded data removed]",
      "text/plain": [
       "<Figure size 1000x600 with 1 Axes>"
      ]
     },
     "metadata": {},
     "output_type": "display_data"
    }
   ],
   "source": [
    "# gráfica para las diez plataformas con las mejores ventas anuales\n",
    "lista=data_platform.index.to_list()\n",
    "data_dist=data_games.query('platform in @lista')[['platform','year_of_release','total_sales']]\\\n",
    "            .pivot_table(index='year_of_release',columns='platform',values='total_sales',aggfunc='sum')\\\n",
    "            .plot(xlim=(1980,2017),style='o-',figsize=(10,6))\n",
    "plt.ylabel('Total_sales en Millones de dólares')\n",
    "plt.title('Gráfica para las diez plataformas con las mejores ventas anuales')\n",
    "plt.show()"
   ]
  },
  {
   "cell_type": "markdown",
   "metadata": {},
   "source": [
    "En la gráfica anterior podemos notar que: **PS2, X360, PS3, Wii, DS Y PS,** son de las plataformas que han tenido las mayores ventas."
   ]
  },
  {
   "cell_type": "markdown",
   "metadata": {},
   "source": [
    "[Contenidos](#contenidos)\n",
    "### ¿Cuánto tardan las plataformas en desaparecer?  \n",
    "Para estudiar el tiempo promedio que tarda en aparecer y desaparecer una plataforma vamos a eliminar de la lista a las `'PC'`, ya que es un equipo que está en constante actualización. Esta lista de plataformas está basada en las plataformas con las diez mejores ventas anuales."
   ]
  },
  {
   "cell_type": "code",
   "execution_count": 37,
   "metadata": {},
   "outputs": [
    {
     "name": "stdout",
     "output_type": "stream",
     "text": [
      "El tiempo promedio que tarda en aparecer y desaparecer una plataforma es: 11 años\n"
     ]
    }
   ],
   "source": [
    "# obtener el promedio de años que tarda en desaparecer una plataforma\n",
    "lista=data_platform.index.to_list()\n",
    "\n",
    "# eliminaremos de la lista la 'PC' ya que es un equipo que siempre se está actualizando\n",
    "lista.remove('PC')\n",
    "data_dist=data_games.query('platform in @lista')[['platform','year_of_release','total_sales']]\n",
    "table_year=data_dist.pivot_table(index='platform',values='year_of_release',aggfunc=['min','max'])\n",
    "table_year.reset_index(inplace=True)\n",
    "table_year.columns=['platform','min_year','max_year']\n",
    "table_year['diff']=table_year['max_year']-table_year['min_year']\n",
    "media=table_year['diff'].mean()\n",
    "print(f'El tiempo promedio que tarda en aparecer y desaparecer una plataforma es: \\\n",
    "{media:.0f} años')"
   ]
  },
  {
   "cell_type": "markdown",
   "metadata": {},
   "source": [
    "---\n",
    "**En base al promedio obtenido anteriormente, podemos elegir datos con diez u once años de antigüedad para poder construir un modelo para hacer pronósticos para el año 2017.**  \n",
    "Aunque el tiempo promedio que tarda en aparecer y desaparecer una plataforma es de once años, alcanza su máximo en ventas a la mitad de su vida, es decir, unos cinco o seis años. De tal manera que, pasado ese tiempo se espera que sus ventas empiecen a disminuir."
   ]
  },
  {
   "cell_type": "markdown",
   "metadata": {},
   "source": [
    "[Contenidos](#contenidos)\n",
    "### ¿Cuáles son las plataformas lideres en ventas?  \n",
    "Para estudiar las plataformas lideres en ventas anuales vamos a elegir datos con una antigüedad no mayor a once años. Así que, haremos uso de los datos del año 2006 en adelante."
   ]
  },
  {
   "cell_type": "code",
   "execution_count": 38,
   "metadata": {},
   "outputs": [
    {
     "data": {
      "image/png": "[encoded data removed]",
      "text/plain": [
       "<Figure size 1500x600 with 1 Axes>"
      ]
     },
     "metadata": {},
     "output_type": "display_data"
    }
   ],
   "source": [
    "# creamos un dataset con datos a partir del año 2006 en adelante\n",
    "data_games.query('year_of_release>2005')[['platform','year_of_release','total_sales']]\\\n",
    "            .pivot_table(index='year_of_release',columns='platform',values='total_sales',aggfunc='sum')\\\n",
    "            .plot(xlim=(2005,2017),style='*-',figsize=(15,6))\n",
    "plt.ylabel('Total_sales en Millones de dólares')\n",
    "plt.title('Gráfica para las ventas anuales por plataforma')\n",
    "plt.show()"
   ]
  },
  {
   "cell_type": "markdown",
   "metadata": {},
   "source": [
    "---\n",
    "En la gráfica anterior, podemos observar que en el año 2013 se lanzaron las plataformas: **PS4 y XOne**, así que estudiaremos nuevamente el comportamiento de las ventas a partir del año 2013. La gráfica también nos muestra que las plataformas: **PS4, PS3, XOne, 3DS y X360,** son las cinco plataformas con las ventas totales más altas a partir del año 2013. Las plataformas: **PS4 y XOne** son nuevas y en crecimiento, mientras que las plataformas; **3DS, PS3 y X360,** son plataformas antiguas y con caída en sus ventas. Además, la plataforma **PS4** es el reemplazo de la **PS3** y la plataforma **XOne** es el reemplazo de la **X360**."
   ]
  },
  {
   "cell_type": "code",
   "execution_count": 39,
   "metadata": {},
   "outputs": [
    {
     "data": {
      "text/html": [
       "<div>\n",
       "<style scoped>\n",
       "    .dataframe tbody tr th:only-of-type {\n",
       "        vertical-align: middle;\n",
       "    }\n",
       "\n",
       "    .dataframe tbody tr th {\n",
       "        vertical-align: top;\n",
       "    }\n",
       "\n",
       "    .dataframe thead th {\n",
       "        text-align: right;\n",
       "    }\n",
       "</style>\n",
       "<table border=\"1\" class=\"dataframe\">\n",
       "  <thead>\n",
       "    <tr style=\"text-align: right;\">\n",
       "      <th>year_of_release</th>\n",
       "      <th>2013</th>\n",
       "      <th>2014</th>\n",
       "      <th>2015</th>\n",
       "      <th>2016</th>\n",
       "      <th>All</th>\n",
       "    </tr>\n",
       "    <tr>\n",
       "      <th>platform</th>\n",
       "      <th></th>\n",
       "      <th></th>\n",
       "      <th></th>\n",
       "      <th></th>\n",
       "      <th></th>\n",
       "    </tr>\n",
       "  </thead>\n",
       "  <tbody>\n",
       "    <tr>\n",
       "      <th>All</th>\n",
       "      <td>361.76</td>\n",
       "      <td>331.53</td>\n",
       "      <td>267.98</td>\n",
       "      <td>129.94</td>\n",
       "      <td>1091.21</td>\n",
       "    </tr>\n",
       "    <tr>\n",
       "      <th>PS4</th>\n",
       "      <td>25.99</td>\n",
       "      <td>100.00</td>\n",
       "      <td>118.90</td>\n",
       "      <td>69.25</td>\n",
       "      <td>314.14</td>\n",
       "    </tr>\n",
       "    <tr>\n",
       "      <th>PS3</th>\n",
       "      <td>113.25</td>\n",
       "      <td>47.76</td>\n",
       "      <td>16.82</td>\n",
       "      <td>3.60</td>\n",
       "      <td>181.43</td>\n",
       "    </tr>\n",
       "    <tr>\n",
       "      <th>XOne</th>\n",
       "      <td>18.96</td>\n",
       "      <td>54.07</td>\n",
       "      <td>60.14</td>\n",
       "      <td>26.15</td>\n",
       "      <td>159.32</td>\n",
       "    </tr>\n",
       "    <tr>\n",
       "      <th>3DS</th>\n",
       "      <td>56.57</td>\n",
       "      <td>43.76</td>\n",
       "      <td>27.78</td>\n",
       "      <td>15.14</td>\n",
       "      <td>143.25</td>\n",
       "    </tr>\n",
       "    <tr>\n",
       "      <th>X360</th>\n",
       "      <td>88.58</td>\n",
       "      <td>34.74</td>\n",
       "      <td>11.96</td>\n",
       "      <td>1.52</td>\n",
       "      <td>136.80</td>\n",
       "    </tr>\n",
       "    <tr>\n",
       "      <th>WiiU</th>\n",
       "      <td>21.65</td>\n",
       "      <td>22.03</td>\n",
       "      <td>16.35</td>\n",
       "      <td>4.60</td>\n",
       "      <td>64.63</td>\n",
       "    </tr>\n",
       "    <tr>\n",
       "      <th>PC</th>\n",
       "      <td>12.66</td>\n",
       "      <td>13.28</td>\n",
       "      <td>8.52</td>\n",
       "      <td>5.25</td>\n",
       "      <td>39.71</td>\n",
       "    </tr>\n",
       "    <tr>\n",
       "      <th>PSV</th>\n",
       "      <td>10.59</td>\n",
       "      <td>11.90</td>\n",
       "      <td>6.25</td>\n",
       "      <td>4.25</td>\n",
       "      <td>32.99</td>\n",
       "    </tr>\n",
       "    <tr>\n",
       "      <th>Wii</th>\n",
       "      <td>8.59</td>\n",
       "      <td>3.75</td>\n",
       "      <td>1.14</td>\n",
       "      <td>0.18</td>\n",
       "      <td>13.66</td>\n",
       "    </tr>\n",
       "    <tr>\n",
       "      <th>PSP</th>\n",
       "      <td>3.38</td>\n",
       "      <td>0.24</td>\n",
       "      <td>0.12</td>\n",
       "      <td>NaN</td>\n",
       "      <td>3.74</td>\n",
       "    </tr>\n",
       "    <tr>\n",
       "      <th>DS</th>\n",
       "      <td>1.54</td>\n",
       "      <td>NaN</td>\n",
       "      <td>NaN</td>\n",
       "      <td>NaN</td>\n",
       "      <td>1.54</td>\n",
       "    </tr>\n",
       "  </tbody>\n",
       "</table>\n",
       "</div>"
      ],
      "text/plain": [
       "year_of_release    2013    2014    2015    2016      All\n",
       "platform                                                \n",
       "All              361.76  331.53  267.98  129.94  1091.21\n",
       "PS4               25.99  100.00  118.90   69.25   314.14\n",
       "PS3              113.25   47.76   16.82    3.60   181.43\n",
       "XOne              18.96   54.07   60.14   26.15   159.32\n",
       "3DS               56.57   43.76   27.78   15.14   143.25\n",
       "X360              88.58   34.74   11.96    1.52   136.80\n",
       "WiiU              21.65   22.03   16.35    4.60    64.63\n",
       "PC                12.66   13.28    8.52    5.25    39.71\n",
       "PSV               10.59   11.90    6.25    4.25    32.99\n",
       "Wii                8.59    3.75    1.14    0.18    13.66\n",
       "PSP                3.38    0.24    0.12     NaN     3.74\n",
       "DS                 1.54     NaN     NaN     NaN     1.54"
      ]
     },
     "execution_count": 39,
     "metadata": {},
     "output_type": "execute_result"
    }
   ],
   "source": [
    "# ventas totales por plataforma a partir del año 2013\n",
    "data_games.query('year_of_release>2012')[['platform','year_of_release','total_sales']]\\\n",
    "            .pivot_table(index='platform',columns='year_of_release',values='total_sales',aggfunc='sum',margins=True)\\\n",
    "            .sort_values(by='All',ascending=False)"
   ]
  },
  {
   "cell_type": "markdown",
   "metadata": {},
   "source": [
    "---\n",
    "De la tabla anterior, podemos intuir que las plataformas: **PS4 y XOne son plataformas potencialmente rentables** ya que las demás están en sus últimos años de existencia. Además, son plataformas de reemplazo de las más cercanas en cuanto a sus ventas totales, del año 2013 al 2016."
   ]
  },
  {
   "cell_type": "markdown",
   "metadata": {},
   "source": [
    "[Contenidos](#contenidos)\n",
    "### Ventas promedio por plataforma  \n",
    "Para estudiar las ventas promedio totales anuales por plataforma vamos a crear diagramas de caja. Haremos uso de los datos del año 2013 en adelante."
   ]
  },
  {
   "cell_type": "code",
   "execution_count": 40,
   "metadata": {},
   "outputs": [
    {
     "data": {
      "image/png": "[encoded data removed]",
      "text/plain": [
       "<Figure size 1200x600 with 1 Axes>"
      ]
     },
     "metadata": {},
     "output_type": "display_data"
    }
   ],
   "source": [
    "# creamos un dataframe agrupado por 'platform' y ordenado en forma ascendente por su mediana\n",
    "grouped = data_games.query('year_of_release>2012')[['platform','total_sales']]\\\n",
    "    .groupby(['platform'])\\\n",
    "    .median()\\\n",
    "    .sort_values(by='total_sales')\n",
    "\n",
    "# creamos una gráfica boxplot para 'total_sales' y 'platform'\n",
    "data_box=data_games.query('year_of_release>2012')[['platform','total_sales']]\n",
    "f,ax=plt.subplots(figsize=(12,6))\n",
    "sns.boxplot(data=data_box,x='platform', y='total_sales',width=0.7,\n",
    "            showmeans=True,meanprops={\"marker\": \"+\",\n",
    "                       \"markeredgecolor\": \"red\",\n",
    "                       \"markersize\": \"10\"},\n",
    "            order=grouped.index)\n",
    "plt.ylim(-0.1,1.9)\n",
    "plt.xticks(rotation=45)\n",
    "plt.title('Gráfico de caja para las diversas plataformas, del año 2013 al 2016')\n",
    "plt.show()"
   ]
  },
  {
   "cell_type": "markdown",
   "metadata": {},
   "source": [
    "---\n",
    "En la gráfica anterior, podemos notar que los promedios de las ventas totales anuales en la mayoría de las plataformas están por arriba del tercer cuartil. Lo cual nos quiere decir que tenemos valores muy grandes, ya que el promedio se está **'cargando'** hacia esos valores.  \n",
    "Los valores medianos de las ventas son muy parecidos entre plataformas pero, entre las ventas promedio si hay diferencias notables. Las plataformas **PS4, X360, XOne y Wii ,** son las que han tenido las mayores ventas totales promedio, a partir del año 2013."
   ]
  },
  {
   "cell_type": "markdown",
   "metadata": {},
   "source": [
    "[Contenidos](#contenidos)\n",
    "### Ventas totales de la plataforma XOne"
   ]
  },
  {
   "cell_type": "markdown",
   "metadata": {},
   "source": [
    "Para estudiar el efecto que tienen las reseñas de los usuarios y profesionales en la ventas de la plataforma XOne vamos a crear un gráfico de dispersión y a calcular la correlación entre las reseñas y las ventas.\n",
    "Vamos a empezar por crear un dataset a partir del año 2013, el año de lanzamiento de la plataforma XOne."
   ]
  },
  {
   "cell_type": "code",
   "execution_count": 41,
   "metadata": {},
   "outputs": [
    {
     "data": {
      "text/html": [
       "<div>\n",
       "<style scoped>\n",
       "    .dataframe tbody tr th:only-of-type {\n",
       "        vertical-align: middle;\n",
       "    }\n",
       "\n",
       "    .dataframe tbody tr th {\n",
       "        vertical-align: top;\n",
       "    }\n",
       "\n",
       "    .dataframe thead th {\n",
       "        text-align: right;\n",
       "    }\n",
       "</style>\n",
       "<table border=\"1\" class=\"dataframe\">\n",
       "  <thead>\n",
       "    <tr style=\"text-align: right;\">\n",
       "      <th></th>\n",
       "      <th>year_of_release</th>\n",
       "      <th>critic_score</th>\n",
       "      <th>user_score</th>\n",
       "      <th>total_sales</th>\n",
       "    </tr>\n",
       "  </thead>\n",
       "  <tbody>\n",
       "    <tr>\n",
       "      <th>99</th>\n",
       "      <td>2015</td>\n",
       "      <td>NaN</td>\n",
       "      <td>NaN</td>\n",
       "      <td>7.39</td>\n",
       "    </tr>\n",
       "  </tbody>\n",
       "</table>\n",
       "</div>"
      ],
      "text/plain": [
       "    year_of_release  critic_score  user_score  total_sales\n",
       "99             2015           NaN         NaN         7.39"
      ]
     },
     "execution_count": 41,
     "metadata": {},
     "output_type": "execute_result"
    }
   ],
   "source": [
    "# creamos el dataset a partir del año 2013 para la plataforma XOne\n",
    "data_xone=data_games.query('platform==\"XOne\" and year_of_release>2012')\\\n",
    "        [['year_of_release','critic_score','user_score','total_sales']]\n",
    "data_xone.head(1)"
   ]
  },
  {
   "cell_type": "code",
   "execution_count": 42,
   "metadata": {},
   "outputs": [
    {
     "data": {
      "image/png": "[encoded data removed]",
      "text/plain": [
       "<Figure size 1000x700 with 2 Axes>"
      ]
     },
     "metadata": {},
     "output_type": "display_data"
    }
   ],
   "source": [
    "# creamos un gráfico de distribución para las ventas totales\n",
    "f, ax = plt.subplots(2,sharex=True,\n",
    "                     gridspec_kw={\"height_ratios\": (.15, .80)},figsize=(10,7))\n",
    "\n",
    "plt.title('Distribución de las ventas totales para la plataforma XOne, del año 2013 al 2016')\n",
    "# gráfico boxplot\n",
    "sns.boxplot(x='total_sales',data=data_xone,ax=ax[0],palette='YlGnBu_r')\n",
    "# gráfico de distribución\n",
    "sns.histplot(data_xone['total_sales'],bins=100,ax=ax[1])\n",
    "# media de los datos en el histograma\n",
    "ax[1].axvline(data_xone['total_sales'].mean(), color='red')\n",
    "plt.show()"
   ]
  },
  {
   "cell_type": "markdown",
   "metadata": {},
   "source": [
    "---\n",
    "Podemos notar que la distribución de las ventas totales está sesgada hacia la derecha, la parte positiva. El promedio de las ventas totales es mayor que su valor mediano, cerca del tercer cuartil.  \n",
    "Vamos ahora a proceder a observar la correlación entre las ventas totales y las reseñas de usuarios y criticos."
   ]
  },
  {
   "cell_type": "code",
   "execution_count": 43,
   "metadata": {},
   "outputs": [
    {
     "data": {
      "image/png": "[encoded data removed]",
      "text/plain": [
       "<Figure size 640x480 with 1 Axes>"
      ]
     },
     "metadata": {},
     "output_type": "display_data"
    }
   ],
   "source": [
    "# veamos el comportamiento de 'total_sales' respecto a 'critic_score'\n",
    "data_xone.plot(x='critic_score',y='total_sales',kind='scatter',color='green')\n",
    "plt.show()"
   ]
  },
  {
   "cell_type": "code",
   "execution_count": 44,
   "metadata": {},
   "outputs": [
    {
     "data": {
      "image/png": "[encoded data removed]",
      "text/plain": [
       "<Figure size 640x480 with 1 Axes>"
      ]
     },
     "metadata": {},
     "output_type": "display_data"
    }
   ],
   "source": [
    "# veamos el comportamiento de 'total_sales' respecto a 'user_score'\n",
    "data_xone.plot(x='user_score',y='total_sales',kind='scatter',color='blue')\n",
    "plt.show()"
   ]
  },
  {
   "cell_type": "markdown",
   "metadata": {},
   "source": [
    "Las gráficas anteriores nos sugieren que no parece existir una relación lineal entre las ventas totales y las reseñas de los usuarios y criticos. Para corroborar lo anterior, vamos a proceder a crear la matriz de correlaciones para observar sus valores."
   ]
  },
  {
   "cell_type": "code",
   "execution_count": 45,
   "metadata": {},
   "outputs": [
    {
     "data": {
      "text/html": [
       "<div>\n",
       "<style scoped>\n",
       "    .dataframe tbody tr th:only-of-type {\n",
       "        vertical-align: middle;\n",
       "    }\n",
       "\n",
       "    .dataframe tbody tr th {\n",
       "        vertical-align: top;\n",
       "    }\n",
       "\n",
       "    .dataframe thead th {\n",
       "        text-align: right;\n",
       "    }\n",
       "</style>\n",
       "<table border=\"1\" class=\"dataframe\">\n",
       "  <thead>\n",
       "    <tr style=\"text-align: right;\">\n",
       "      <th></th>\n",
       "      <th>year_of_release</th>\n",
       "      <th>critic_score</th>\n",
       "      <th>user_score</th>\n",
       "      <th>total_sales</th>\n",
       "    </tr>\n",
       "  </thead>\n",
       "  <tbody>\n",
       "    <tr>\n",
       "      <th>year_of_release</th>\n",
       "      <td>1.000</td>\n",
       "      <td>0.064</td>\n",
       "      <td>0.079</td>\n",
       "      <td>-0.239</td>\n",
       "    </tr>\n",
       "    <tr>\n",
       "      <th>critic_score</th>\n",
       "      <td>0.064</td>\n",
       "      <td>1.000</td>\n",
       "      <td>0.472</td>\n",
       "      <td>0.417</td>\n",
       "    </tr>\n",
       "    <tr>\n",
       "      <th>user_score</th>\n",
       "      <td>0.079</td>\n",
       "      <td>0.472</td>\n",
       "      <td>1.000</td>\n",
       "      <td>-0.069</td>\n",
       "    </tr>\n",
       "    <tr>\n",
       "      <th>total_sales</th>\n",
       "      <td>-0.239</td>\n",
       "      <td>0.417</td>\n",
       "      <td>-0.069</td>\n",
       "      <td>1.000</td>\n",
       "    </tr>\n",
       "  </tbody>\n",
       "</table>\n",
       "</div>"
      ],
      "text/plain": [
       "                 year_of_release  critic_score  user_score  total_sales\n",
       "year_of_release            1.000         0.064       0.079       -0.239\n",
       "critic_score               0.064         1.000       0.472        0.417\n",
       "user_score                 0.079         0.472       1.000       -0.069\n",
       "total_sales               -0.239         0.417      -0.069        1.000"
      ]
     },
     "execution_count": 45,
     "metadata": {},
     "output_type": "execute_result"
    }
   ],
   "source": [
    "# obtenemos la matriz de correlaciones aplicando el método corr() al dataframe 'data_xone'\n",
    "matriz_corr=data_xone.corr()\n",
    "matriz_corr"
   ]
  },
  {
   "cell_type": "code",
   "execution_count": 46,
   "metadata": {},
   "outputs": [
    {
     "data": {
      "image/png": "[encoded data removed]",
      "text/plain": [
       "<Figure size 400x400 with 2 Axes>"
      ]
     },
     "metadata": {},
     "output_type": "display_data"
    }
   ],
   "source": [
    "# creamos un 'heatmap' de las correlaciones\n",
    "f,ax=plt.subplots(figsize=(4,4))\n",
    "sns.heatmap(matriz_corr,vmax=0.8,annot=True,cmap='PuRd',square=True)\n",
    "plt.show()"
   ]
  },
  {
   "cell_type": "markdown",
   "metadata": {},
   "source": [
    "---\n",
    "Para la plataforma **XOne**, observamos que la correlación entre `'total_sales'` y `'critic_score'` es de apenas **0.42** y de **-0.069** entre `'total_sales'` y `'user_score'`, la gráfica anterior nos confirma que no existe relación lineal entre las ventas totales y las reseñas de los criticos y usuarios. "
   ]
  },
  {
   "cell_type": "markdown",
   "metadata": {},
   "source": [
    "[Contenidos](#contenidos)\n",
    "### Ventas totales de la plataforma PS4"
   ]
  },
  {
   "cell_type": "markdown",
   "metadata": {},
   "source": [
    "Para estudiar el efecto que tienen las reseñas de los usuarios y profesionales en la ventas de la plataforma PS4 vamos a crear un gráfico de dispersión y a calcular la correlación entre las reseñas y las ventas.\n",
    "Vamos a empezar por crear un dataset a partir del año 2013, el año de lanzamiento de la plataforma PS4."
   ]
  },
  {
   "cell_type": "code",
   "execution_count": 47,
   "metadata": {},
   "outputs": [
    {
     "data": {
      "text/html": [
       "<div>\n",
       "<style scoped>\n",
       "    .dataframe tbody tr th:only-of-type {\n",
       "        vertical-align: middle;\n",
       "    }\n",
       "\n",
       "    .dataframe tbody tr th {\n",
       "        vertical-align: top;\n",
       "    }\n",
       "\n",
       "    .dataframe thead th {\n",
       "        text-align: right;\n",
       "    }\n",
       "</style>\n",
       "<table border=\"1\" class=\"dataframe\">\n",
       "  <thead>\n",
       "    <tr style=\"text-align: right;\">\n",
       "      <th></th>\n",
       "      <th>year_of_release</th>\n",
       "      <th>critic_score</th>\n",
       "      <th>user_score</th>\n",
       "      <th>total_sales</th>\n",
       "    </tr>\n",
       "  </thead>\n",
       "  <tbody>\n",
       "    <tr>\n",
       "      <th>31</th>\n",
       "      <td>2015</td>\n",
       "      <td>NaN</td>\n",
       "      <td>NaN</td>\n",
       "      <td>14.63</td>\n",
       "    </tr>\n",
       "  </tbody>\n",
       "</table>\n",
       "</div>"
      ],
      "text/plain": [
       "    year_of_release  critic_score  user_score  total_sales\n",
       "31             2015           NaN         NaN        14.63"
      ]
     },
     "execution_count": 47,
     "metadata": {},
     "output_type": "execute_result"
    }
   ],
   "source": [
    "# creamos el dataset a partir del año 2013 para la plataforma PS4\n",
    "data_ps4=data_games.query('platform==\"PS4\" and year_of_release>2012')\\\n",
    "        [['year_of_release','critic_score','user_score','total_sales']]\n",
    "data_ps4.head(1)"
   ]
  },
  {
   "cell_type": "code",
   "execution_count": 48,
   "metadata": {},
   "outputs": [
    {
     "data": {
      "image/png": "[encoded data removed]",
      "text/plain": [
       "<Figure size 1000x700 with 2 Axes>"
      ]
     },
     "metadata": {},
     "output_type": "display_data"
    }
   ],
   "source": [
    "# creamos un gráfico de distribución para las ventas totales\n",
    "f, ax = plt.subplots(2,sharex=True,\n",
    "                     gridspec_kw={\"height_ratios\": (.15, .80)},figsize=(10,7))\n",
    "\n",
    "plt.title('Dsitribución de las ventas totales para la plataforma PS4, del año 2013 al 2016')\n",
    "# gráfico boxplot\n",
    "sns.boxplot(x='total_sales',data=data_ps4,ax=ax[0],palette='YlGn_r')\n",
    "# gráfico de distribución\n",
    "sns.histplot(data_ps4['total_sales'],bins=100,ax=ax[1])\n",
    "# media de los datos en el histograma\n",
    "ax[1].axvline(data_ps4['total_sales'].mean(), color='red')\n",
    "plt.show()"
   ]
  },
  {
   "cell_type": "markdown",
   "metadata": {},
   "source": [
    "---\n",
    "Podemos notar que la distribución de las ventas totales está sesgada hacia la derecha, la parte positiva. El promedio de las ventas totales es mayor que su valor mediano, cerca del tercer cuartil.  \n",
    "Vamos ahora a proceder a observar la correlación entre las ventas totales y las reseñas de usuarios y criticos."
   ]
  },
  {
   "cell_type": "code",
   "execution_count": 49,
   "metadata": {},
   "outputs": [
    {
     "data": {
      "image/png": "[encoded data removed]",
      "text/plain": [
       "<Figure size 640x480 with 1 Axes>"
      ]
     },
     "metadata": {},
     "output_type": "display_data"
    }
   ],
   "source": [
    "# veamos el comportamiento de 'total_sales' respecto a 'critic_score'\n",
    "data_ps4.plot(x='critic_score',y='total_sales',kind='scatter',color='brown')\n",
    "plt.show()"
   ]
  },
  {
   "cell_type": "code",
   "execution_count": 50,
   "metadata": {},
   "outputs": [
    {
     "data": {
      "image/png": "[encoded data removed]",
      "text/plain": [
       "<Figure size 640x480 with 1 Axes>"
      ]
     },
     "metadata": {},
     "output_type": "display_data"
    }
   ],
   "source": [
    "# veamos el comportamiento de 'total_sales' respecto a 'user_score'\n",
    "data_ps4.plot(x='user_score',y='total_sales',kind='scatter',color='orange')\n",
    "plt.show()"
   ]
  },
  {
   "cell_type": "markdown",
   "metadata": {},
   "source": [
    "Las gráficas anteriores nos sugieren que no parece existir una relación lineal entre las ventas totales y las reseñas de los usuarios y criticos. Vamos a proceder a crear la matriz de correlaciones para observar sus valores."
   ]
  },
  {
   "cell_type": "code",
   "execution_count": 51,
   "metadata": {},
   "outputs": [
    {
     "data": {
      "text/html": [
       "<div>\n",
       "<style scoped>\n",
       "    .dataframe tbody tr th:only-of-type {\n",
       "        vertical-align: middle;\n",
       "    }\n",
       "\n",
       "    .dataframe tbody tr th {\n",
       "        vertical-align: top;\n",
       "    }\n",
       "\n",
       "    .dataframe thead th {\n",
       "        text-align: right;\n",
       "    }\n",
       "</style>\n",
       "<table border=\"1\" class=\"dataframe\">\n",
       "  <thead>\n",
       "    <tr style=\"text-align: right;\">\n",
       "      <th></th>\n",
       "      <th>year_of_release</th>\n",
       "      <th>critic_score</th>\n",
       "      <th>user_score</th>\n",
       "      <th>total_sales</th>\n",
       "    </tr>\n",
       "  </thead>\n",
       "  <tbody>\n",
       "    <tr>\n",
       "      <th>year_of_release</th>\n",
       "      <td>1.000</td>\n",
       "      <td>-0.021</td>\n",
       "      <td>0.152</td>\n",
       "      <td>-0.235</td>\n",
       "    </tr>\n",
       "    <tr>\n",
       "      <th>critic_score</th>\n",
       "      <td>-0.021</td>\n",
       "      <td>1.000</td>\n",
       "      <td>0.558</td>\n",
       "      <td>0.407</td>\n",
       "    </tr>\n",
       "    <tr>\n",
       "      <th>user_score</th>\n",
       "      <td>0.152</td>\n",
       "      <td>0.558</td>\n",
       "      <td>1.000</td>\n",
       "      <td>-0.032</td>\n",
       "    </tr>\n",
       "    <tr>\n",
       "      <th>total_sales</th>\n",
       "      <td>-0.235</td>\n",
       "      <td>0.407</td>\n",
       "      <td>-0.032</td>\n",
       "      <td>1.000</td>\n",
       "    </tr>\n",
       "  </tbody>\n",
       "</table>\n",
       "</div>"
      ],
      "text/plain": [
       "                 year_of_release  critic_score  user_score  total_sales\n",
       "year_of_release            1.000        -0.021       0.152       -0.235\n",
       "critic_score              -0.021         1.000       0.558        0.407\n",
       "user_score                 0.152         0.558       1.000       -0.032\n",
       "total_sales               -0.235         0.407      -0.032        1.000"
      ]
     },
     "execution_count": 51,
     "metadata": {},
     "output_type": "execute_result"
    }
   ],
   "source": [
    "# obtenemos la matriz de correlaciones aplicando el método corr() al dataframe 'data_ps4'\n",
    "matriz_corr=data_ps4.corr()\n",
    "matriz_corr"
   ]
  },
  {
   "cell_type": "code",
   "execution_count": 52,
   "metadata": {},
   "outputs": [
    {
     "data": {
      "image/png": "[encoded data removed]",
      "text/plain": [
       "<Figure size 400x400 with 2 Axes>"
      ]
     },
     "metadata": {},
     "output_type": "display_data"
    }
   ],
   "source": [
    "# creamos un 'heatmap' de las correlaciones\n",
    "f,ax=plt.subplots(figsize=(4,4))\n",
    "sns.heatmap(matriz_corr,vmax=0.8,annot=True,cmap='GnBu_r',square=True)\n",
    "plt.show()"
   ]
  },
  {
   "cell_type": "markdown",
   "metadata": {},
   "source": [
    "---\n",
    "Para la plataforma **PS4**, podemos observar que la correlación entre `'total_sales'` y `'critic_score'` es de apenas **0.41** y de **-0.032** entre `'total_sales'` y `'user_score'`, la gráfica anterior nos confirma que no existe relación lineal entre las ventas totales y las reseñas de los criticos y usuarios."
   ]
  },
  {
   "cell_type": "markdown",
   "metadata": {},
   "source": [
    "[Contenidos](#contenidos)\n",
    "### Ventas totales por género"
   ]
  },
  {
   "cell_type": "markdown",
   "metadata": {},
   "source": [
    "Vamos a estudiar el comportamiento de las ventas totales por género de los videojuegos, haremos uso de los datos del año 2013 en adelante. Elegiremos también las plataformas PS4, PS3, XOne, 3DS y X360, ya que son las cinco plataformas con las mayores ventas a partir del año 2013 al 2016."
   ]
  },
  {
   "cell_type": "code",
   "execution_count": 53,
   "metadata": {},
   "outputs": [
    {
     "data": {
      "text/plain": [
       "PS4     392\n",
       "PS3     345\n",
       "3DS     303\n",
       "XOne    247\n",
       "X360    186\n",
       "Name: platform, dtype: int64"
      ]
     },
     "execution_count": 53,
     "metadata": {},
     "output_type": "execute_result"
    }
   ],
   "source": [
    "# creamos el dataset\n",
    "lista=['PS4','PS3','XOne','3DS','X360']\n",
    "data_genre=data_games.query('year_of_release>2012 and platform in @lista')\\\n",
    "            [['name','platform','year_of_release','genre','total_sales']]\n",
    "data_genre['platform'].value_counts()"
   ]
  },
  {
   "cell_type": "code",
   "execution_count": 54,
   "metadata": {},
   "outputs": [
    {
     "data": {
      "text/html": [
       "<div>\n",
       "<style scoped>\n",
       "    .dataframe tbody tr th:only-of-type {\n",
       "        vertical-align: middle;\n",
       "    }\n",
       "\n",
       "    .dataframe tbody tr th {\n",
       "        vertical-align: top;\n",
       "    }\n",
       "\n",
       "    .dataframe thead th {\n",
       "        text-align: right;\n",
       "    }\n",
       "</style>\n",
       "<table border=\"1\" class=\"dataframe\">\n",
       "  <thead>\n",
       "    <tr style=\"text-align: right;\">\n",
       "      <th>platform</th>\n",
       "      <th>3DS</th>\n",
       "      <th>PS3</th>\n",
       "      <th>PS4</th>\n",
       "      <th>X360</th>\n",
       "      <th>XOne</th>\n",
       "      <th>All</th>\n",
       "    </tr>\n",
       "    <tr>\n",
       "      <th>genre</th>\n",
       "      <th></th>\n",
       "      <th></th>\n",
       "      <th></th>\n",
       "      <th></th>\n",
       "      <th></th>\n",
       "      <th></th>\n",
       "    </tr>\n",
       "  </thead>\n",
       "  <tbody>\n",
       "    <tr>\n",
       "      <th>All</th>\n",
       "      <td>143.25</td>\n",
       "      <td>181.43</td>\n",
       "      <td>314.14</td>\n",
       "      <td>136.80</td>\n",
       "      <td>159.32</td>\n",
       "      <td>934.94</td>\n",
       "    </tr>\n",
       "    <tr>\n",
       "      <th>Action</th>\n",
       "      <td>34.04</td>\n",
       "      <td>70.92</td>\n",
       "      <td>96.10</td>\n",
       "      <td>47.59</td>\n",
       "      <td>37.31</td>\n",
       "      <td>285.96</td>\n",
       "    </tr>\n",
       "    <tr>\n",
       "      <th>Shooter</th>\n",
       "      <td>0.06</td>\n",
       "      <td>31.79</td>\n",
       "      <td>88.56</td>\n",
       "      <td>35.48</td>\n",
       "      <td>60.33</td>\n",
       "      <td>216.22</td>\n",
       "    </tr>\n",
       "    <tr>\n",
       "      <th>Sports</th>\n",
       "      <td>1.82</td>\n",
       "      <td>32.35</td>\n",
       "      <td>55.61</td>\n",
       "      <td>25.96</td>\n",
       "      <td>26.74</td>\n",
       "      <td>142.48</td>\n",
       "    </tr>\n",
       "    <tr>\n",
       "      <th>Role-Playing</th>\n",
       "      <td>67.37</td>\n",
       "      <td>16.49</td>\n",
       "      <td>28.99</td>\n",
       "      <td>4.43</td>\n",
       "      <td>10.55</td>\n",
       "      <td>127.83</td>\n",
       "    </tr>\n",
       "    <tr>\n",
       "      <th>Misc</th>\n",
       "      <td>7.10</td>\n",
       "      <td>8.36</td>\n",
       "      <td>8.19</td>\n",
       "      <td>12.49</td>\n",
       "      <td>7.43</td>\n",
       "      <td>43.57</td>\n",
       "    </tr>\n",
       "    <tr>\n",
       "      <th>Racing</th>\n",
       "      <td>NaN</td>\n",
       "      <td>6.46</td>\n",
       "      <td>12.14</td>\n",
       "      <td>3.07</td>\n",
       "      <td>9.79</td>\n",
       "      <td>31.46</td>\n",
       "    </tr>\n",
       "    <tr>\n",
       "      <th>Fighting</th>\n",
       "      <td>8.21</td>\n",
       "      <td>6.05</td>\n",
       "      <td>8.65</td>\n",
       "      <td>2.55</td>\n",
       "      <td>2.45</td>\n",
       "      <td>27.91</td>\n",
       "    </tr>\n",
       "    <tr>\n",
       "      <th>Platform</th>\n",
       "      <td>8.79</td>\n",
       "      <td>3.33</td>\n",
       "      <td>7.69</td>\n",
       "      <td>2.14</td>\n",
       "      <td>0.93</td>\n",
       "      <td>22.88</td>\n",
       "    </tr>\n",
       "    <tr>\n",
       "      <th>Adventure</th>\n",
       "      <td>3.33</td>\n",
       "      <td>4.32</td>\n",
       "      <td>6.34</td>\n",
       "      <td>1.92</td>\n",
       "      <td>2.68</td>\n",
       "      <td>18.59</td>\n",
       "    </tr>\n",
       "    <tr>\n",
       "      <th>Simulation</th>\n",
       "      <td>9.53</td>\n",
       "      <td>0.71</td>\n",
       "      <td>1.23</td>\n",
       "      <td>0.89</td>\n",
       "      <td>0.69</td>\n",
       "      <td>13.05</td>\n",
       "    </tr>\n",
       "    <tr>\n",
       "      <th>Strategy</th>\n",
       "      <td>1.27</td>\n",
       "      <td>0.61</td>\n",
       "      <td>0.62</td>\n",
       "      <td>0.28</td>\n",
       "      <td>0.42</td>\n",
       "      <td>3.20</td>\n",
       "    </tr>\n",
       "    <tr>\n",
       "      <th>Puzzle</th>\n",
       "      <td>1.73</td>\n",
       "      <td>0.04</td>\n",
       "      <td>0.02</td>\n",
       "      <td>NaN</td>\n",
       "      <td>NaN</td>\n",
       "      <td>1.79</td>\n",
       "    </tr>\n",
       "  </tbody>\n",
       "</table>\n",
       "</div>"
      ],
      "text/plain": [
       "platform         3DS     PS3     PS4    X360    XOne     All\n",
       "genre                                                       \n",
       "All           143.25  181.43  314.14  136.80  159.32  934.94\n",
       "Action         34.04   70.92   96.10   47.59   37.31  285.96\n",
       "Shooter         0.06   31.79   88.56   35.48   60.33  216.22\n",
       "Sports          1.82   32.35   55.61   25.96   26.74  142.48\n",
       "Role-Playing   67.37   16.49   28.99    4.43   10.55  127.83\n",
       "Misc            7.10    8.36    8.19   12.49    7.43   43.57\n",
       "Racing           NaN    6.46   12.14    3.07    9.79   31.46\n",
       "Fighting        8.21    6.05    8.65    2.55    2.45   27.91\n",
       "Platform        8.79    3.33    7.69    2.14    0.93   22.88\n",
       "Adventure       3.33    4.32    6.34    1.92    2.68   18.59\n",
       "Simulation      9.53    0.71    1.23    0.89    0.69   13.05\n",
       "Strategy        1.27    0.61    0.62    0.28    0.42    3.20\n",
       "Puzzle          1.73    0.04    0.02     NaN     NaN    1.79"
      ]
     },
     "execution_count": 54,
     "metadata": {},
     "output_type": "execute_result"
    }
   ],
   "source": [
    "# calculamos las ventas totales por género y plataforma\n",
    "data_genre.pivot_table(index='genre',columns='platform',values='total_sales',\\\n",
    "                       aggfunc='sum',margins=True)\\\n",
    "                        .sort_values(('All'),ascending=False)"
   ]
  },
  {
   "cell_type": "markdown",
   "metadata": {},
   "source": [
    "---\n",
    "En la tabla anterior podemos observar que los juegos pertenecientes a los géneros: **Action, Shooter, Sports, Role-Playing y Misc** han sido los de mayores ventas totales, del año 2013 al 2016 para las plataformas ahí mencionadas. Las plataformas **PS4 y XOne** tienen mayores ventas totales que las plataformas **PS3 y X360**, respectivamente.  \n",
    "No debemos olvidar que las plataformas **PS4 y XOne** fueron lanzadas en el año 2013 como reemplazo de las plataformas **PS3 y X360**."
   ]
  },
  {
   "cell_type": "markdown",
   "metadata": {},
   "source": [
    "[Contenidos](#contenidos)\n",
    "### Las cinco plataformas con mejores ventas totales por región"
   ]
  },
  {
   "cell_type": "markdown",
   "metadata": {},
   "source": [
    "Para estudiar las ventas totales por región vamos a crear datasets a partir del año 2013 en adelante y buscaremos las cinco plataformas con mejores ventas, para cada región."
   ]
  },
  {
   "cell_type": "code",
   "execution_count": 55,
   "metadata": {},
   "outputs": [],
   "source": [
    "\"\"\"función para obtener las cinco mejores ventas de una región en base a una variable de agrupación\"\"\"\n",
    "def best_five(data,var_group,var_sales):\n",
    "    \"\"\"esta función extrae las cinco mejores ventas de una región en base a una agrupación dada\n",
    "        data=el dataset donde se hará el slice a partir del año 2013\n",
    "        var_group=la variable por la que se hará la agrupación ('platform','genre')\n",
    "        var_sales=la columna de ventas por región por la que se desea obtener los cinco mejores ('na_sales'...)\n",
    "    \"\"\"\n",
    "    datos=data.query('year_of_release>2012')\\\n",
    "                    .pivot_table(index=var_group,values=var_sales,aggfunc='sum')\\\n",
    "                    .sort_values((var_sales),ascending=False)[0:5]\n",
    "    datos.reset_index(inplace=True)\n",
    "    return datos"
   ]
  },
  {
   "cell_type": "code",
   "execution_count": 56,
   "metadata": {},
   "outputs": [],
   "source": [
    "# obtenemos las ventas totales por plataforma para la región 'na'\n",
    "data_sales_na=best_five(data=data_games,var_group='platform',var_sales='na_sales')\n",
    "\n",
    "# obtenemos las ventas totales por plataforma para la región 'eu'\n",
    "data_sales_eu=best_five(data=data_games,var_group='platform',var_sales='eu_sales')\n",
    "\n",
    "# obtenemos las ventas totales por plataforma para la región 'jp'\n",
    "data_sales_jp=best_five(data=data_games,var_group='platform',var_sales='jp_sales')\n",
    "\n",
    "# obtenemos las ventas totales por plataforma para la región 'other'\n",
    "data_sales_other=best_five(data=data_games,var_group='platform',var_sales='other_sales')"
   ]
  },
  {
   "cell_type": "code",
   "execution_count": 57,
   "metadata": {
    "scrolled": true
   },
   "outputs": [
    {
     "name": "stdout",
     "output_type": "stream",
     "text": [
      "Ventas totales para las cinco mejores plataformas por región\n"
     ]
    },
    {
     "data": {
      "text/html": [
       "<div>\n",
       "<style scoped>\n",
       "    .dataframe tbody tr th:only-of-type {\n",
       "        vertical-align: middle;\n",
       "    }\n",
       "\n",
       "    .dataframe tbody tr th {\n",
       "        vertical-align: top;\n",
       "    }\n",
       "\n",
       "    .dataframe thead th {\n",
       "        text-align: right;\n",
       "    }\n",
       "</style>\n",
       "<table border=\"1\" class=\"dataframe\">\n",
       "  <thead>\n",
       "    <tr style=\"text-align: right;\">\n",
       "      <th></th>\n",
       "      <th>platform</th>\n",
       "      <th>na_sales</th>\n",
       "      <th>eu_sales</th>\n",
       "      <th>jp_sales</th>\n",
       "      <th>other_sales</th>\n",
       "    </tr>\n",
       "  </thead>\n",
       "  <tbody>\n",
       "    <tr>\n",
       "      <th>0</th>\n",
       "      <td>3DS</td>\n",
       "      <td>38.20</td>\n",
       "      <td>30.96</td>\n",
       "      <td>67.81</td>\n",
       "      <td>6.28</td>\n",
       "    </tr>\n",
       "    <tr>\n",
       "      <th>1</th>\n",
       "      <td>PS3</td>\n",
       "      <td>63.50</td>\n",
       "      <td>67.81</td>\n",
       "      <td>23.35</td>\n",
       "      <td>26.77</td>\n",
       "    </tr>\n",
       "    <tr>\n",
       "      <th>2</th>\n",
       "      <td>PS4</td>\n",
       "      <td>108.74</td>\n",
       "      <td>141.09</td>\n",
       "      <td>15.96</td>\n",
       "      <td>48.35</td>\n",
       "    </tr>\n",
       "    <tr>\n",
       "      <th>3</th>\n",
       "      <td>PSV</td>\n",
       "      <td>NaN</td>\n",
       "      <td>NaN</td>\n",
       "      <td>18.59</td>\n",
       "      <td>NaN</td>\n",
       "    </tr>\n",
       "    <tr>\n",
       "      <th>4</th>\n",
       "      <td>WiiU</td>\n",
       "      <td>NaN</td>\n",
       "      <td>NaN</td>\n",
       "      <td>10.88</td>\n",
       "      <td>NaN</td>\n",
       "    </tr>\n",
       "    <tr>\n",
       "      <th>5</th>\n",
       "      <td>X360</td>\n",
       "      <td>81.66</td>\n",
       "      <td>42.52</td>\n",
       "      <td>NaN</td>\n",
       "      <td>12.11</td>\n",
       "    </tr>\n",
       "    <tr>\n",
       "      <th>6</th>\n",
       "      <td>XOne</td>\n",
       "      <td>93.12</td>\n",
       "      <td>51.59</td>\n",
       "      <td>NaN</td>\n",
       "      <td>14.27</td>\n",
       "    </tr>\n",
       "  </tbody>\n",
       "</table>\n",
       "</div>"
      ],
      "text/plain": [
       "  platform  na_sales  eu_sales  jp_sales  other_sales\n",
       "0      3DS     38.20     30.96     67.81         6.28\n",
       "1      PS3     63.50     67.81     23.35        26.77\n",
       "2      PS4    108.74    141.09     15.96        48.35\n",
       "3      PSV       NaN       NaN     18.59          NaN\n",
       "4     WiiU       NaN       NaN     10.88          NaN\n",
       "5     X360     81.66     42.52       NaN        12.11\n",
       "6     XOne     93.12     51.59       NaN        14.27"
      ]
     },
     "execution_count": 57,
     "metadata": {},
     "output_type": "execute_result"
    }
   ],
   "source": [
    "# creamos un dataframe para las ventas totales de las cinco mejores plataformas en cada región\n",
    "print(\"Ventas totales para las cinco mejores plataformas por región\")\n",
    "data_sales_na.merge(data_sales_eu,on='platform',how='outer').merge(data_sales_jp,on='platform',how='outer')\\\n",
    "    .merge(data_sales_other,on='platform',how='outer')\\\n",
    "    .sort_values('platform').reset_index(drop=True)"
   ]
  },
  {
   "cell_type": "markdown",
   "metadata": {},
   "source": [
    "---\n",
    "De la tabla anterior, podemos notar que los juegos para la plataforma **3DS** tuvieron las ventas más altas en la región de **\"jp\"**. Los juegos para la plataforma **PS3** tuvieron las ventas más altas en las regiones de **\"na\" y \"eu\"**. Los juegos para la plataforma **PS4**, tuvieron las ventas más altas en las regiones **\"na\" y \"eu\"** comparado con las demás regiones. La plataforma **PSV** tuvo mejores ventas en la región de **\"jp\"** comparado con las otras regiones. La plataforma **WiiU** tuvo las ventas más altas en la región de **\"jp\"**, comparado a las demás regiones. La plataforma **X360** registró las mayores ventas en las regiones **\"na\" y \"eu\"**. La plataforma **XOne** tuvo las ventas más altas en las regiones de **\"na\", \"eu\" y \"other\".**"
   ]
  },
  {
   "cell_type": "markdown",
   "metadata": {},
   "source": [
    "[Contenidos](#contenidos)\n",
    "### Los cinco géneros con mejores ventas totales por región"
   ]
  },
  {
   "cell_type": "markdown",
   "metadata": {},
   "source": [
    "Para estudiar las ventas totales por género vamos a crear datasets a partir del año 2013 en adelante y buscaremos los cinco géneros con mejores ventas, para cada región.   \n",
    "Haremos uso de la función `'best_five()'` creada en la sección anterior para obtener los cinco géneros con mejores ventas por región."
   ]
  },
  {
   "cell_type": "code",
   "execution_count": 58,
   "metadata": {},
   "outputs": [],
   "source": [
    "# obtenemos las ventas totales por género para la región 'na'\n",
    "data_sales_na=best_five(data=data_games,var_group='genre',var_sales='na_sales')\n",
    "\n",
    "# obtenemos las ventas totales por género para la región 'eu'\n",
    "data_sales_eu=best_five(data=data_games,var_group='genre',var_sales='eu_sales')\n",
    "\n",
    "# obtenemos las ventas totales por género para la región 'jp'\n",
    "data_sales_jp=best_five(data=data_games,var_group='genre',var_sales='jp_sales')\n",
    "\n",
    "# obtenemos las ventas totales por género para la región 'other'\n",
    "data_sales_other=best_five(data=data_games,var_group='genre',var_sales='other_sales')"
   ]
  },
  {
   "cell_type": "code",
   "execution_count": 59,
   "metadata": {},
   "outputs": [
    {
     "data": {
      "text/html": [
       "<div>\n",
       "<style scoped>\n",
       "    .dataframe tbody tr th:only-of-type {\n",
       "        vertical-align: middle;\n",
       "    }\n",
       "\n",
       "    .dataframe tbody tr th {\n",
       "        vertical-align: top;\n",
       "    }\n",
       "\n",
       "    .dataframe thead th {\n",
       "        text-align: right;\n",
       "    }\n",
       "</style>\n",
       "<table border=\"1\" class=\"dataframe\">\n",
       "  <thead>\n",
       "    <tr style=\"text-align: right;\">\n",
       "      <th></th>\n",
       "      <th>genre</th>\n",
       "      <th>na_sales</th>\n",
       "      <th>eu_sales</th>\n",
       "      <th>jp_sales</th>\n",
       "      <th>other_sales</th>\n",
       "    </tr>\n",
       "  </thead>\n",
       "  <tbody>\n",
       "    <tr>\n",
       "      <th>0</th>\n",
       "      <td>Action</td>\n",
       "      <td>126.07</td>\n",
       "      <td>118.36</td>\n",
       "      <td>40.49</td>\n",
       "      <td>37.23</td>\n",
       "    </tr>\n",
       "    <tr>\n",
       "      <th>1</th>\n",
       "      <td>Fighting</td>\n",
       "      <td>NaN</td>\n",
       "      <td>NaN</td>\n",
       "      <td>7.65</td>\n",
       "      <td>NaN</td>\n",
       "    </tr>\n",
       "    <tr>\n",
       "      <th>2</th>\n",
       "      <td>Misc</td>\n",
       "      <td>27.49</td>\n",
       "      <td>NaN</td>\n",
       "      <td>9.44</td>\n",
       "      <td>6.09</td>\n",
       "    </tr>\n",
       "    <tr>\n",
       "      <th>3</th>\n",
       "      <td>Racing</td>\n",
       "      <td>NaN</td>\n",
       "      <td>20.19</td>\n",
       "      <td>NaN</td>\n",
       "      <td>NaN</td>\n",
       "    </tr>\n",
       "    <tr>\n",
       "      <th>4</th>\n",
       "      <td>Role-Playing</td>\n",
       "      <td>46.40</td>\n",
       "      <td>36.97</td>\n",
       "      <td>51.04</td>\n",
       "      <td>11.48</td>\n",
       "    </tr>\n",
       "    <tr>\n",
       "      <th>5</th>\n",
       "      <td>Shooter</td>\n",
       "      <td>109.74</td>\n",
       "      <td>87.86</td>\n",
       "      <td>6.61</td>\n",
       "      <td>28.77</td>\n",
       "    </tr>\n",
       "    <tr>\n",
       "      <th>6</th>\n",
       "      <td>Sports</td>\n",
       "      <td>65.27</td>\n",
       "      <td>60.52</td>\n",
       "      <td>NaN</td>\n",
       "      <td>19.45</td>\n",
       "    </tr>\n",
       "  </tbody>\n",
       "</table>\n",
       "</div>"
      ],
      "text/plain": [
       "          genre  na_sales  eu_sales  jp_sales  other_sales\n",
       "0        Action    126.07    118.36     40.49        37.23\n",
       "1      Fighting       NaN       NaN      7.65          NaN\n",
       "2          Misc     27.49       NaN      9.44         6.09\n",
       "3        Racing       NaN     20.19       NaN          NaN\n",
       "4  Role-Playing     46.40     36.97     51.04        11.48\n",
       "5       Shooter    109.74     87.86      6.61        28.77\n",
       "6        Sports     65.27     60.52       NaN        19.45"
      ]
     },
     "execution_count": 59,
     "metadata": {},
     "output_type": "execute_result"
    }
   ],
   "source": [
    "# creamos un dataframe para las ventas totales de los cinco mejores géneros en cada región\n",
    "data_sales_na.merge(data_sales_eu,on='genre',how='outer').merge(data_sales_jp,on='genre',how='outer')\\\n",
    "    .merge(data_sales_other,on='genre',how='outer')\\\n",
    "    .sort_values('genre').reset_index(drop=True)"
   ]
  },
  {
   "cell_type": "markdown",
   "metadata": {},
   "source": [
    "---\n",
    "De la tabla anterior, podemos observar que el género **Action** tuvo las mayores ventas en la región de **\"na\" y \"eu\"**, comparado a las otras dos regiones. El género **Fighting** tuvo ventas altas en la región de **\"jp\"**, no así en las otras regiones. El género **Misc** tuvo ventas altas en la región de **\"na\"**, comparado a las otra regiones. El género **Racing** tuvo ventas altas en la región de **\"eu\"**, pero no en las demás regiones. El género **Role_playing** tuvo las ventas más altas en las regiones **\"jp\" y \"na\"**, comparado a las demás regiones. Los géneros **Shooter y Sports** tuvieron ventas altas en las regiones de **\"na\" y \"eu\"**, pero no en las otras regiones."
   ]
  },
  {
   "cell_type": "markdown",
   "metadata": {},
   "source": [
    "[Contenidos](#contenidos)\n",
    "### ¿Cómo afecta la clasificación ESRB a las ventas por región?"
   ]
  },
  {
   "cell_type": "markdown",
   "metadata": {},
   "source": [
    "Para estudiar el efecto que puede provocar la clasificación **ESRB** a las ventas por región vamos a buscar la correlación existente entre las ventas por región y la clasificación **ESRB (`'rating'`)**. Usaremos datos del año 2013 en adelante."
   ]
  },
  {
   "cell_type": "markdown",
   "metadata": {},
   "source": [
    "Vamos a reemplazar los valores de `'rating'` con valores que podamos manipular fácilmente:\n",
    "- E=1\n",
    "- T=2\n",
    "- M=3\n",
    "- E10+=4\n",
    "- EC=5\n",
    "- K-A=6\n",
    "- RP=7\n",
    "- AO=8"
   ]
  },
  {
   "cell_type": "code",
   "execution_count": 60,
   "metadata": {},
   "outputs": [],
   "source": [
    "# creamos un diccionario con los valores a reemplazar\n",
    "lista_rating={'E':1, 'T':2, 'M':3, 'E10+':4, 'EC':5, 'K-A':7,'RP':7,'AO':8}"
   ]
  },
  {
   "cell_type": "code",
   "execution_count": 61,
   "metadata": {},
   "outputs": [],
   "source": [
    "# reemplazamos los valores en la columna 'rating'\n",
    "for key, valor in lista_rating.items():\n",
    "    data_games['rating'].replace(key,valor,inplace=True)"
   ]
  },
  {
   "cell_type": "code",
   "execution_count": 62,
   "metadata": {},
   "outputs": [
    {
     "data": {
      "text/html": [
       "<div>\n",
       "<style scoped>\n",
       "    .dataframe tbody tr th:only-of-type {\n",
       "        vertical-align: middle;\n",
       "    }\n",
       "\n",
       "    .dataframe tbody tr th {\n",
       "        vertical-align: top;\n",
       "    }\n",
       "\n",
       "    .dataframe thead th {\n",
       "        text-align: right;\n",
       "    }\n",
       "</style>\n",
       "<table border=\"1\" class=\"dataframe\">\n",
       "  <thead>\n",
       "    <tr style=\"text-align: right;\">\n",
       "      <th></th>\n",
       "      <th>year_of_release</th>\n",
       "      <th>rating</th>\n",
       "      <th>na_sales</th>\n",
       "      <th>eu_sales</th>\n",
       "      <th>jp_sales</th>\n",
       "      <th>other_sales</th>\n",
       "    </tr>\n",
       "  </thead>\n",
       "  <tbody>\n",
       "    <tr>\n",
       "      <th>16</th>\n",
       "      <td>2013</td>\n",
       "      <td>3.0</td>\n",
       "      <td>7.02</td>\n",
       "      <td>9.09</td>\n",
       "      <td>0.98</td>\n",
       "      <td>3.96</td>\n",
       "    </tr>\n",
       "  </tbody>\n",
       "</table>\n",
       "</div>"
      ],
      "text/plain": [
       "    year_of_release  rating  na_sales  eu_sales  jp_sales  other_sales\n",
       "16             2013     3.0      7.02      9.09      0.98         3.96"
      ]
     },
     "execution_count": 62,
     "metadata": {},
     "output_type": "execute_result"
    }
   ],
   "source": [
    "# creamos el dataset a partir del año 2013 y las ventas\n",
    "data_rating=data_games.query('year_of_release>2012')\\\n",
    "        [['year_of_release','rating','na_sales','eu_sales','jp_sales','other_sales']]\n",
    "data_rating.head(1)"
   ]
  },
  {
   "cell_type": "code",
   "execution_count": 63,
   "metadata": {},
   "outputs": [
    {
     "data": {
      "text/html": [
       "<div>\n",
       "<style scoped>\n",
       "    .dataframe tbody tr th:only-of-type {\n",
       "        vertical-align: middle;\n",
       "    }\n",
       "\n",
       "    .dataframe tbody tr th {\n",
       "        vertical-align: top;\n",
       "    }\n",
       "\n",
       "    .dataframe thead th {\n",
       "        text-align: right;\n",
       "    }\n",
       "</style>\n",
       "<table border=\"1\" class=\"dataframe\">\n",
       "  <thead>\n",
       "    <tr style=\"text-align: right;\">\n",
       "      <th></th>\n",
       "      <th>year_of_release</th>\n",
       "      <th>rating</th>\n",
       "      <th>na_sales</th>\n",
       "      <th>eu_sales</th>\n",
       "      <th>jp_sales</th>\n",
       "      <th>other_sales</th>\n",
       "    </tr>\n",
       "  </thead>\n",
       "  <tbody>\n",
       "    <tr>\n",
       "      <th>year_of_release</th>\n",
       "      <td>1.000</td>\n",
       "      <td>-0.033</td>\n",
       "      <td>-0.124</td>\n",
       "      <td>-0.088</td>\n",
       "      <td>-0.074</td>\n",
       "      <td>-0.090</td>\n",
       "    </tr>\n",
       "    <tr>\n",
       "      <th>rating</th>\n",
       "      <td>-0.033</td>\n",
       "      <td>1.000</td>\n",
       "      <td>0.127</td>\n",
       "      <td>0.093</td>\n",
       "      <td>-0.040</td>\n",
       "      <td>0.106</td>\n",
       "    </tr>\n",
       "    <tr>\n",
       "      <th>na_sales</th>\n",
       "      <td>-0.124</td>\n",
       "      <td>0.127</td>\n",
       "      <td>1.000</td>\n",
       "      <td>0.770</td>\n",
       "      <td>0.264</td>\n",
       "      <td>0.817</td>\n",
       "    </tr>\n",
       "    <tr>\n",
       "      <th>eu_sales</th>\n",
       "      <td>-0.088</td>\n",
       "      <td>0.093</td>\n",
       "      <td>0.770</td>\n",
       "      <td>1.000</td>\n",
       "      <td>0.244</td>\n",
       "      <td>0.935</td>\n",
       "    </tr>\n",
       "    <tr>\n",
       "      <th>jp_sales</th>\n",
       "      <td>-0.074</td>\n",
       "      <td>-0.040</td>\n",
       "      <td>0.264</td>\n",
       "      <td>0.244</td>\n",
       "      <td>1.000</td>\n",
       "      <td>0.195</td>\n",
       "    </tr>\n",
       "    <tr>\n",
       "      <th>other_sales</th>\n",
       "      <td>-0.090</td>\n",
       "      <td>0.106</td>\n",
       "      <td>0.817</td>\n",
       "      <td>0.935</td>\n",
       "      <td>0.195</td>\n",
       "      <td>1.000</td>\n",
       "    </tr>\n",
       "  </tbody>\n",
       "</table>\n",
       "</div>"
      ],
      "text/plain": [
       "                 year_of_release  rating  na_sales  eu_sales  jp_sales  \\\n",
       "year_of_release            1.000  -0.033    -0.124    -0.088    -0.074   \n",
       "rating                    -0.033   1.000     0.127     0.093    -0.040   \n",
       "na_sales                  -0.124   0.127     1.000     0.770     0.264   \n",
       "eu_sales                  -0.088   0.093     0.770     1.000     0.244   \n",
       "jp_sales                  -0.074  -0.040     0.264     0.244     1.000   \n",
       "other_sales               -0.090   0.106     0.817     0.935     0.195   \n",
       "\n",
       "                 other_sales  \n",
       "year_of_release       -0.090  \n",
       "rating                 0.106  \n",
       "na_sales               0.817  \n",
       "eu_sales               0.935  \n",
       "jp_sales               0.195  \n",
       "other_sales            1.000  "
      ]
     },
     "execution_count": 63,
     "metadata": {},
     "output_type": "execute_result"
    }
   ],
   "source": [
    "# obtenemos la matriz de correlaciones aplicando el método corr() al dataframe 'data_rating'\n",
    "matriz_corr=data_rating.corr()\n",
    "matriz_corr"
   ]
  },
  {
   "cell_type": "code",
   "execution_count": 64,
   "metadata": {},
   "outputs": [
    {
     "data": {
      "image/png": "[encoded data removed]",
      "text/plain": [
       "<Figure size 600x600 with 2 Axes>"
      ]
     },
     "metadata": {},
     "output_type": "display_data"
    }
   ],
   "source": [
    "# creamos un 'heatmap' de las correlaciones\n",
    "f,ax=plt.subplots(figsize=(6,6))\n",
    "sns.heatmap(matriz_corr,vmax=0.8,annot=True,cmap='YlOrBr',square=True)\n",
    "plt.show()"
   ]
  },
  {
   "cell_type": "markdown",
   "metadata": {},
   "source": [
    "---\n",
    "La tabla anterior nos muestra que **no existe relación lineal entre las ventas por región y la clasificación ESRB** de los videojuegos, ya que el valor de las correlaciones es demasiado bajo."
   ]
  },
  {
   "cell_type": "markdown",
   "metadata": {},
   "source": [
    "[Contenidos](#contenidos)\n",
    "## Pruebas de hipótesis  \n",
    "Para las pruebas de hipótesis continuaremos usando datos a partir del año 2013."
   ]
  },
  {
   "cell_type": "markdown",
   "metadata": {},
   "source": [
    "[Contenidos](#contenidos)\n",
    "### ¿Las calificaciones promedio de los usuarios de las plataformas Xbox One y PC son las mismas?"
   ]
  },
  {
   "cell_type": "markdown",
   "metadata": {},
   "source": [
    "Probemos la hipótesis siguiente:\n",
    "- **Hipótesis nula:** La calificación promedio de los usuarios de la plataforma Xbox One es igual a la calificación promedio de los usuarios de la PC.\n",
    "- **Hipótesis alternativa:** La calificación promedio de los usuarios de la plataforma Xbox One no es igual a la calificación promedio de los usuarios de la PC.\n",
    "\n",
    "Ya que vamos a comparar la media de dos poblaciones, usaremos la prueba estadística `'t de Student' (ttes_ind)` con un nivel **alpha=0.05 de significancia**."
   ]
  },
  {
   "cell_type": "code",
   "execution_count": 65,
   "metadata": {},
   "outputs": [],
   "source": [
    "# creamos el set de datos de la plataforma 'XOne'\n",
    "sample_xone=data_games.query('platform==\"XOne\" and year_of_release>2012')['user_score']\n",
    "\n",
    "# creamos el set de datos de la plataforma 'PC'\n",
    "sample_pc=data_games.query('platform==\"PC\" and year_of_release>2012')['user_score']"
   ]
  },
  {
   "cell_type": "code",
   "execution_count": 66,
   "metadata": {},
   "outputs": [
    {
     "name": "stdout",
     "output_type": "stream",
     "text": [
      "el tamaño de sample_xone es:  182\n",
      "contiene:  65 valores nulos\n"
     ]
    }
   ],
   "source": [
    "# revisamos el tamaño del dataset sample_xone sin valores nulos\n",
    "print(\"el tamaño de sample_xone es: \",len(sample_xone[sample_xone.notna()]))\n",
    "print(\"contiene: \",sample_xone.isna().sum(),\"valores nulos\")"
   ]
  },
  {
   "cell_type": "code",
   "execution_count": 67,
   "metadata": {},
   "outputs": [
    {
     "name": "stdout",
     "output_type": "stream",
     "text": [
      "el tamaño de sample_pc es:  157\n",
      "contiene:  34 valores nulos\n"
     ]
    }
   ],
   "source": [
    "# revisamos el tamaño del dataset sample_pc sin valores nulos\n",
    "print(\"el tamaño de sample_pc es: \",len(sample_pc[sample_pc.notna()]))\n",
    "print(\"contiene: \",sample_pc.isna().sum(),\"valores nulos\")"
   ]
  },
  {
   "cell_type": "markdown",
   "metadata": {},
   "source": [
    "Podemos ver que los tamaños de muestra son distintos y que contienen valores nulos. Así que, usaremos la opción `'nan_policy'='omit'` en la prueba `'t de Student'`."
   ]
  },
  {
   "cell_type": "markdown",
   "metadata": {},
   "source": [
    "Para decidir si el parámetro `'equal_var'` de la prueba `'t de Student'` lo ponemos en `'True'` o `'False'`, vamos a  realizar una prueba de **`'Levene'`.**\n",
    "\n",
    "La prueba de `'Levene'` sirve para probar:  \n",
    "- **Hipótesis nula:** Las **varianzas de dos poblaciones son iguales**\n",
    "- **Hipótesis alternativa:** Las **varianzas de las dos poblaciones no son iguales**  \n",
    "\n",
    "Usaremos un nivel `'alpha'` de significancia."
   ]
  },
  {
   "cell_type": "code",
   "execution_count": 68,
   "metadata": {},
   "outputs": [
    {
     "name": "stdout",
     "output_type": "stream",
     "text": [
      "La varianza de sample_xone es: 1.8965188383045533\n",
      "La varianza de sample_pc es: 2.9787967057487115\n",
      "\n",
      "p-value:  0.004563244475804022\n",
      "Rechazamos la hipótesis nula de que las varianzas son iguales\n"
     ]
    }
   ],
   "source": [
    "# Prueba de 'Levene' sobre las varianzas de las muestras\n",
    "# el nivel de significancia estadística\n",
    "alpha = 0.05\n",
    "\n",
    "#creamos las muestras sin valores nulos\n",
    "sample_xone_notna=sample_xone[sample_xone.notna()]\n",
    "sample_pc_notna=sample_pc[sample_pc.notna()]\n",
    "\n",
    "#realizamos la prueba de 'levene'\n",
    "results=st.levene(sample_xone_notna,sample_pc_notna)\n",
    "\n",
    "# mostramos las varianzas de cada muestra\n",
    "print(f'La varianza de sample_xone es: {np.var(sample_xone_notna)}',end='\\n')\n",
    "print(f'La varianza de sample_pc es: {np.var(sample_pc_notna)}',end='\\n\\n')\n",
    "print('p-value: ', results.pvalue)\n",
    "\n",
    "# si el valor p es menor que alfa, rechazamos la hipótesis\n",
    "if results.pvalue < alpha:\n",
    "    print(\"Rechazamos la hipótesis nula de que las varianzas son iguales\")\n",
    "else:\n",
    "    print(\"No rechazamos la hipótesis nula\")"
   ]
  },
  {
   "cell_type": "markdown",
   "metadata": {},
   "source": [
    "Concluimos entonces que **las varianzas de las dos muestras no son iguales.** Por lo tanto, el parámetro **`'equal_var'`lo pondremos en `'False'`.**"
   ]
  },
  {
   "cell_type": "code",
   "execution_count": 69,
   "metadata": {},
   "outputs": [
    {
     "name": "stdout",
     "output_type": "stream",
     "text": [
      "La media de sample_xone es: 6.521428571428572\n",
      "La media de sample_pc es: 6.26624203821656\n",
      "\n",
      "La varianza de sample_xone es: 1.8965188383045533\n",
      "La varianza de sample_pc es: 2.9787967057487115\n",
      "\n",
      "p-value:  0.13888973874685417\n",
      "No rechazamos la hipótesis nula\n"
     ]
    }
   ],
   "source": [
    "# Prueba 't de Student' para las medias de las muestras\n",
    "# el nivel de significancia estadística\n",
    "alpha = 0.05\n",
    "\n",
    "results = st.ttest_ind(sample_xone, sample_pc,nan_policy='omit',equal_var=False)\n",
    "\n",
    "# mostramos las medias de cada muestra\n",
    "print(f'La media de sample_xone es: {np.mean(sample_xone)}',end='\\n')\n",
    "print(f'La media de sample_pc es: {np.mean(sample_pc)}',end='\\n\\n')\n",
    "# mostramos las varianzas de cada muestra\n",
    "print(f'La varianza de sample_xone es: {np.var(sample_xone)}',end='\\n')\n",
    "print(f'La varianza de sample_pc es: {np.var(sample_pc)}',end='\\n\\n')\n",
    "print('p-value: ', results.pvalue)\n",
    "\n",
    "# si el valor p es menor que alfa, rechazamos la hipótesis\n",
    "if results.pvalue < alpha:\n",
    "    print(\"Rechazamos la hipótesis nula\")\n",
    "else:\n",
    "    print(\"No rechazamos la hipótesis nula\") "
   ]
  },
  {
   "cell_type": "markdown",
   "metadata": {},
   "source": [
    "---\n",
    "De la prueba anterior, concluimos entonces que **no hay suficiente evidencia para rechazar** que: <font color='blue'>\"la calificación promedio otorgada por los usuarios de la plataforma XOne es igual a la calificación promedio otorgada por los usuarios de la PC.\"</font>"
   ]
  },
  {
   "cell_type": "markdown",
   "metadata": {},
   "source": [
    "[Contenidos](#contenidos)\n",
    "### ¿Las calificaciones promedio de los usuarios para los géneros de Acción y Deportes son las mismas?"
   ]
  },
  {
   "cell_type": "markdown",
   "metadata": {},
   "source": [
    "Probemos la hipótesis siguiente:\n",
    "- **Hipótesis nula:** La calificación promedio de los usuarios del género Acción es igual a la calificación promedio de los usuarios del género Deportes.\n",
    "- **Hipótesis alternativa:** La calificación promedio de los usuarios del género Acción no es igual a la calificación promedio de los usuarios del género Deportes.\n",
    "\n",
    "Ya que vamos a comparar la media de dos poblaciones, usaremos la prueba estadística `'t de Student' (ttes_ind)` con un nivel **alpha=0.05 de significancia**."
   ]
  },
  {
   "cell_type": "code",
   "execution_count": 70,
   "metadata": {},
   "outputs": [],
   "source": [
    "# creamos el set de datos del género 'Action'\n",
    "sample_action=data_games.query('genre==\"Action\" and year_of_release>2012')['user_score']\n",
    "\n",
    "# creamos el set de datos del género 'Sports'\n",
    "sample_sports=data_games.query('genre==\"Sports\" and year_of_release>2012')['user_score']"
   ]
  },
  {
   "cell_type": "code",
   "execution_count": 71,
   "metadata": {},
   "outputs": [
    {
     "name": "stdout",
     "output_type": "stream",
     "text": [
      "el tamaño de sample_action es:  391\n",
      "contiene:  377 valores nulos\n"
     ]
    }
   ],
   "source": [
    "# revisamos el tamaño del dataset sample_action sin valores nulos\n",
    "print(\"el tamaño de sample_action es: \",len(sample_action[sample_action.notna()]))\n",
    "print(\"contiene: \",sample_action.isna().sum(),\"valores nulos\")"
   ]
  },
  {
   "cell_type": "code",
   "execution_count": 72,
   "metadata": {},
   "outputs": [
    {
     "name": "stdout",
     "output_type": "stream",
     "text": [
      "el tamaño de sample_sports es:  160\n",
      "contiene:  54 valores nulos\n"
     ]
    }
   ],
   "source": [
    "# revisamos el tamaño del dataset sample_sports sin valores nulos\n",
    "print(\"el tamaño de sample_sports es: \",len(sample_sports[sample_sports.notna()]))\n",
    "print(\"contiene: \",sample_sports.isna().sum(),\"valores nulos\")"
   ]
  },
  {
   "cell_type": "markdown",
   "metadata": {},
   "source": [
    "Podemos ver que los tamaños de muestra son distintos y que contienen valores nulos. Así que, usaremos la opción `'nan_policy'='omit'` en la prueba `'t de Student'`."
   ]
  },
  {
   "cell_type": "markdown",
   "metadata": {},
   "source": [
    "Para decidir si el parámetro `'equal_var'` de la prueba `'t de Student'` lo ponemos en `'True'` o `'False'`, vamos a  realizar una prueba de `'Levene'`.\n",
    "\n",
    "\n",
    "La prueba de `'Levene'` sirve para probar:  \n",
    "- **Hipótesis nula:** Las **varianzas de dos poblaciones son iguales**\n",
    "- **Hipótesis alternativa:** Las **varianzas de las dos poblaciones no son iguales**  \n",
    "\n",
    "Usaremos un nivel `'alpha'` de significancia."
   ]
  },
  {
   "cell_type": "code",
   "execution_count": 73,
   "metadata": {},
   "outputs": [
    {
     "name": "stdout",
     "output_type": "stream",
     "text": [
      "La varianza de sample_action es: 1.759354923110131\n",
      "La varianza de sample_sports es: 3.1607339843749975\n",
      "\n",
      "p-value:  4.1171246676291577e-07\n",
      "Rechazamos la hipótesis nula de que las varianzas son iguales\n"
     ]
    }
   ],
   "source": [
    "# Prueba de 'Levene' sobre las varianzas de las muestras\n",
    "# el nivel de significancia estadística\n",
    "alpha = 0.05\n",
    "\n",
    "#creamos las sin valores nulos\n",
    "sample_action_notna=sample_action[sample_action.notna()]\n",
    "sample_sports_notna=sample_sports[sample_sports.notna()]\n",
    "\n",
    "#realizamos la prueba de 'levene'\n",
    "results=st.levene(sample_action_notna,sample_sports_notna)\n",
    "\n",
    "# mostramos las varianzas de cada muestra\n",
    "print(f'La varianza de sample_action es: {np.var(sample_action_notna)}',end='\\n')\n",
    "print(f'La varianza de sample_sports es: {np.var(sample_sports_notna)}',end='\\n\\n')\n",
    "print('p-value: ', results.pvalue)\n",
    "\n",
    "# si el valor p es menor que alfa, rechazamos la hipótesis\n",
    "if results.pvalue < alpha:\n",
    "    print(\"Rechazamos la hipótesis nula de que las varianzas son iguales\")\n",
    "else:\n",
    "    print(\"No rechazamos la hipótesis nula\")"
   ]
  },
  {
   "cell_type": "markdown",
   "metadata": {},
   "source": [
    "Concluimos entonces que **las varianzas de las dos muestras no son iguales.** Por lo tanto, el parámetro **`'equal_var'`lo pondremos en `'False'`.**"
   ]
  },
  {
   "cell_type": "code",
   "execution_count": 74,
   "metadata": {},
   "outputs": [
    {
     "name": "stdout",
     "output_type": "stream",
     "text": [
      "La media de sample_action es: 6.833248081841432\n",
      "La media de sample_sports es: 5.238124999999999\n",
      "\n",
      "La varianza de sample_action es: 1.759354923110131\n",
      "La varianza de sample_sports es: 3.1607339843749975\n",
      "\n",
      "p-value:  1.6948835429264077e-20\n",
      "Rechazamos la hipótesis nula\n"
     ]
    }
   ],
   "source": [
    "# Prueba 't de Student' para las medias de las muestras\n",
    "# el nivel de significancia estadística\n",
    "alpha = 0.05\n",
    "\n",
    "results = st.ttest_ind(sample_action, sample_sports,nan_policy='omit',equal_var=False)\n",
    "\n",
    "# mostramos las medias de cada muestra\n",
    "print(f'La media de sample_action es: {np.mean(sample_action)}',end='\\n')\n",
    "print(f'La media de sample_sports es: {np.mean(sample_sports)}',end='\\n\\n')\n",
    "# mostramos las varianzas de cada muestra\n",
    "print(f'La varianza de sample_action es: {np.var(sample_action)}',end='\\n')\n",
    "print(f'La varianza de sample_sports es: {np.var(sample_sports)}',end='\\n\\n')\n",
    "print('p-value: ', results.pvalue)\n",
    "\n",
    "# si el valor p es menor que alfa, rechazamos la hipótesis\n",
    "if results.pvalue < alpha:\n",
    "    print(\"Rechazamos la hipótesis nula\")\n",
    "else:\n",
    "    print(\"No rechazamos la hipótesis nula\") "
   ]
  },
  {
   "cell_type": "markdown",
   "metadata": {},
   "source": [
    "---\n",
    "De la prueba anterior, <font color='blue'>concluimos entonces que la calificación promedio otorgada por los usuarios para los géneros de Acción y Deportes no es igual.</font>"
   ]
  },
  {
   "cell_type": "markdown",
   "metadata": {},
   "source": [
    "[Contenidos](#contenidos)\n",
    "## Conclusiones "
   ]
  },
  {
   "cell_type": "markdown",
   "metadata": {},
   "source": [
    "---\n",
    "1. Las plataformas: PS2, X360, PS3, Wii, DS, PS, PS4, GBA, PSP y PC, son las diez plataformas con las ventas totales más altas, con datos de ventas desde el año 1980 hasta el año 2016.\n",
    "1. El tiempo promedio que tarda en aparecer y desaparecer una plataforma es de 11 años.\n",
    "1. Las plataformas: PS4, PS3, Wii, XOne y X360, son las que han tenido las mayores ventas totales promedio, a partir del año 2006.\n",
    "1. Las plataformas: PS4, PS3, XOne, 3DS y X360, son las cinco con mayores ventas totales a partir del año 2013.\n",
    "1. Las reseñas de los criticos y los usuarios parecen no tener efecto en las ventas totales para las plataformas XOne y PS4, a partir del año 2013.\n",
    "1. **Los juegos pertenecientes a los géneros: Action, Shooter, Sports, Role-Playing y Misc han sido los de mayores ventas totales,** del año 2013 al 2016 **para las plataformas PS4, PS3, XOne, 3DS y X360.**\n",
    "1. El rating (**clasificacion ESRB**) no tiene relación con las ventas totales por región.\n",
    "1. **No hay suficiente evidencia para poder rechazar la hipótesis de que: la calificación promedio de los usuarios de la plataforma XOne es igual a la calificación promedio de los usuarios de la PC.**\n",
    "1. **La calificación promedio de los usuarios para los géneros de Acción y Deportes no es igual.**\n",
    "1. **Las mejores plataformas en las que se recomienda para promocionar juegos son: PS4 y XOne,** ya que son las plataformas más recientes y con las ventas más altas a partir del año 2013 al 2016.\n",
    "\n",
    "---"
   ]
  }
 ],
 "metadata": {
  "kernelspec": {
   "display_name": "Python 3 (ipykernel)",
   "language": "python",
   "name": "python3"
  },
  "language_info": {
   "codemirror_mode": {
    "name": "ipython",
    "version": 3
   },
   "file_extension": ".py",
   "mimetype": "text/x-python",
   "name": "python",
   "nbconvert_exporter": "python",
   "pygments_lexer": "ipython3",
   "version": "3.9.13"
  },
  "toc": {
   "base_numbering": 1,
   "nav_menu": {},
   "number_sections": true,
   "sideBar": true,
   "skip_h1_title": true,
   "title_cell": "Tabla de Contenidos",
   "title_sidebar": "Contents",
   "toc_cell": true,
   "toc_position": {
    "height": "calc(100% - 180px)",
    "left": "10px",
    "top": "150px",
    "width": "170.359px"
   },
   "toc_section_display": true,
   "toc_window_display": false
  },
  "toc-autonumbering": true,
  "toc-showtags": false
 },
 "nbformat": 4,
 "nbformat_minor": 4
}
